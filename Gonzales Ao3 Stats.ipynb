{
 "cells": [
  {
   "cell_type": "markdown",
   "id": "adbe2c58-10c7-494d-87af-8e4bfabb06a9",
   "metadata": {},
   "source": [
    "![AO3 Header](header.png)"
   ]
  },
  {
   "cell_type": "markdown",
   "id": "1f5de8a1",
   "metadata": {},
   "source": [
    "# Fandom Categorization and Genre Writing\n",
    "\n",
    "#### Yvonne Gonzales\n",
    "#### Course: Digital Humanities 100 and 101; Summer 2021\n",
    "#### Instructors: Adam Anderson and Brooks Jessup\n",
    "\n",
    "## Abstract\n",
    "\n",
    "> In this project, I investigate what makes fanfiction unique as a genre, but more specifically, I compare how different fandoms (communities surrounding specific medias) may write or tag their works differently. I used data from the website *Archive of Our Own* to do so. Relevant findings were primarily in relationship to the RPF (real person fic) fandom for BTS. In comparisons, the BTS fandoms wrote and read explicit sexual works in higher volume than any other fandom, to a significant degree. Overall, the sorting of tags showed that fanfiction as a genre places an emphasis on emotion based tagging and sorting. Tags like \"Fluff,\" \"Angst,\" and \"Hurt/Comfort,\" topped the frequency charts for tags in both popular works and specific fandoms. In fanfiction, people don't search for specific genres but rather for feelings. The *Archive of Our Own* categorization system also includes a section to select the genders of the characters in main relationships. While there were tons of works under the M/M (male/male relationship) tag, very few were under the F/F (female/female relationship) tag. The discrepancies and variation in the categories section requires further humanities based research to explain. My focus moving forward will be in RPF based fandoms and modern parasocial relationships.\n",
    "\n",
    "## Introduction\n",
    "\n",
    "Reading fanfiction feels different than reading traditionally published literature. While fanfiction might come with popular connotations of being romantic or sexual in nature, fanfiction is more of a mode of writing than it is one specific genre. Using The user generated tagging systems and topic modelling, I want to figure out what makes fanfiction what it is. What topics are most popular, and how do people categorize them? In a future project, I intend to do a similar analysis of popular published literature, but this serves as a starting point for comparing fanfiction to standardized literary forms. Fanfiction has often been studied as a cultural, psychological object, but lacks research as a form of literature, and I want to investigate why it is or why it might not be.\n",
    "\n",
    "Most of the code here was written referencing [the notebooks in this GitHub repo from the Berkeley D-Lab, written by Evan Muzzall and edited by Brooks Jessup](https://github.com/dlab-berkeley/DIGHUM101-2021).\n",
    "\n",
    "![project poster](poster_ao3_analysis.png)\n",
    "\n",
    "\n",
    "## Research Questions\n",
    "\n",
    "1. Primary Research Question. How is fanfiction tagged, and what does this categorization say about fanfiction as a whole?\n",
    "\n",
    "    a. Are there any specific names or relationships that show up disproportionately?\n",
    "    \n",
    "    b. What are the percentages of M/M stories, F/F stories, F/M stories, and other gender combinations? What might that say about the genre? \n",
    "    \n",
    "    c. How popular is fanfiction? How popular are specific fandoms? Does the amount of clicks line up with the amount of likes?\n",
    "\n",
    "## Dataset\n",
    "\n",
    "Using [a webscraper by UC Berkeley graduate student Sarah Sterman and Stanford student Jingyi Li](https://github.com/radiolarian/AO3Scraper), I collected the data and full text from the top 3.5k works (aka \"fics\"), as sorted by likes (or as Ao3 calls them, kudos) of fanfiction on the popular fanfiction website [Archive of Our Own](https://archiveofourown.org/)."
   ]
  },
  {
   "cell_type": "markdown",
   "id": "b39b2d01-f7eb-44d1-a033-338caaa5b164",
   "metadata": {},
   "source": [
    "# Importing Data and Libraries"
   ]
  },
  {
   "cell_type": "code",
   "execution_count": 10,
   "id": "0a138095-bb10-4f2c-b46c-3645e1ecb590",
   "metadata": {},
   "outputs": [],
   "source": [
    "from collections import Counter # Count most common words\n",
    "import gensim # word2vec model\n",
    "import matplotlib.pyplot as plt\n",
    "%matplotlib inline\n",
    "import nltk # natural language toolkit\n",
    "from nltk.corpus import stopwords\n",
    "import numpy as np \n",
    "import os\n",
    "import pandas as pd\n",
    "\n",
    "import seaborn as sns\n",
    "\n",
    "from sklearn.decomposition import PCA\n",
    "\n",
    "import warnings\n",
    "warnings.filterwarnings(\"ignore\", category = DeprecationWarning)"
   ]
  },
  {
   "cell_type": "code",
   "execution_count": 11,
   "id": "f4c85963-0b52-4dcb-89bc-16b90b45cabe",
   "metadata": {},
   "outputs": [],
   "source": [
    "from gensim.parsing.preprocessing import remove_stopwords"
   ]
  },
  {
   "cell_type": "code",
   "execution_count": 12,
   "id": "5e467527-22f3-4be7-afe4-942204f45b43",
   "metadata": {},
   "outputs": [
    {
     "data": {
      "text/plain": [
       "'/Users/yvonnegonzales/Desktop/DH100/AO3Scraper'"
      ]
     },
     "execution_count": 12,
     "metadata": {},
     "output_type": "execute_result"
    }
   ],
   "source": [
    "os.chdir(\"../AO3Scraper\")\n",
    "%pwd"
   ]
  },
  {
   "cell_type": "code",
   "execution_count": 13,
   "id": "522ac1c9",
   "metadata": {},
   "outputs": [],
   "source": [
    "plt.style.use('default')"
   ]
  },
  {
   "cell_type": "markdown",
   "id": "83fc557d-7a88-48dd-8e3a-fa61730f5ce3",
   "metadata": {},
   "source": [
    "## Core Data Set - Sorted by Kudos, Top 3500\n",
    "\n",
    "Pulled on June 3, 2021"
   ]
  },
  {
   "cell_type": "code",
   "execution_count": 14,
   "id": "fdea59ff-ffc4-4d66-9655-3802e6da0e1b",
   "metadata": {},
   "outputs": [
    {
     "data": {
      "text/html": [
       "<div>\n",
       "<style scoped>\n",
       "    .dataframe tbody tr th:only-of-type {\n",
       "        vertical-align: middle;\n",
       "    }\n",
       "\n",
       "    .dataframe tbody tr th {\n",
       "        vertical-align: top;\n",
       "    }\n",
       "\n",
       "    .dataframe thead th {\n",
       "        text-align: right;\n",
       "    }\n",
       "</style>\n",
       "<table border=\"1\" class=\"dataframe\">\n",
       "  <thead>\n",
       "    <tr style=\"text-align: right;\">\n",
       "      <th></th>\n",
       "      <th>work_id</th>\n",
       "      <th>title</th>\n",
       "      <th>author</th>\n",
       "      <th>rating</th>\n",
       "      <th>category</th>\n",
       "      <th>fandom</th>\n",
       "      <th>relationship</th>\n",
       "      <th>character</th>\n",
       "      <th>additional tags</th>\n",
       "      <th>language</th>\n",
       "      <th>...</th>\n",
       "      <th>status date</th>\n",
       "      <th>words</th>\n",
       "      <th>chapters</th>\n",
       "      <th>comments</th>\n",
       "      <th>kudos</th>\n",
       "      <th>bookmarks</th>\n",
       "      <th>hits</th>\n",
       "      <th>all_kudos</th>\n",
       "      <th>all_bookmarks</th>\n",
       "      <th>body</th>\n",
       "    </tr>\n",
       "  </thead>\n",
       "  <tbody>\n",
       "    <tr>\n",
       "      <th>0</th>\n",
       "      <td>2080878</td>\n",
       "      <td>I Am Groot</td>\n",
       "      <td>['sherlocksmyth']</td>\n",
       "      <td>Explicit</td>\n",
       "      <td>NaN</td>\n",
       "      <td>Guardians of the Galaxy - All Media Types, Mar...</td>\n",
       "      <td>NaN</td>\n",
       "      <td>Groot (Marvel)</td>\n",
       "      <td>NSFW</td>\n",
       "      <td>English</td>\n",
       "      <td>...</td>\n",
       "      <td>2014-08-04</td>\n",
       "      <td>1308</td>\n",
       "      <td>1/1</td>\n",
       "      <td>2931</td>\n",
       "      <td>98099</td>\n",
       "      <td>3842</td>\n",
       "      <td>848754</td>\n",
       "      <td>['sddhdeheifis', 'XxSilentiumxX', 'Mai_3', 'Am...</td>\n",
       "      <td>[]</td>\n",
       "      <td>I am Groot. I am Groot. I am Groot. I am Groot...</td>\n",
       "    </tr>\n",
       "    <tr>\n",
       "      <th>1</th>\n",
       "      <td>8337607</td>\n",
       "      <td>Yesterday Upon The Stair</td>\n",
       "      <td>['PitViperOfDoom']</td>\n",
       "      <td>Teen And Up Audiences</td>\n",
       "      <td>Gen</td>\n",
       "      <td>Pu nohiroakademia | Boku no Hero Academia | My...</td>\n",
       "      <td>Midoriya Izuku &amp; Yagi Toshinori | All Might, M...</td>\n",
       "      <td>Midoriya Izuku, Yagi Toshinori | All Might, Mi...</td>\n",
       "      <td>Alternate Universe - Canon Divergence, BAMF Mi...</td>\n",
       "      <td>English</td>\n",
       "      <td>...</td>\n",
       "      <td>2019-10-12</td>\n",
       "      <td>424070</td>\n",
       "      <td>60/60</td>\n",
       "      <td>19940</td>\n",
       "      <td>62276</td>\n",
       "      <td>14836</td>\n",
       "      <td>1765887</td>\n",
       "      <td>['DaneyC', 'fucksimoncowell', 'TheBrotatoPatch...</td>\n",
       "      <td>[]</td>\n",
       "      <td>\"Excuse me? Um, excuse me?\"\\n\\nIt takes a whil...</td>\n",
       "    </tr>\n",
       "    <tr>\n",
       "      <th>2</th>\n",
       "      <td>5096105</td>\n",
       "      <td>In Another Life</td>\n",
       "      <td>['LittleLuxray']</td>\n",
       "      <td>Teen And Up Audiences</td>\n",
       "      <td>M/M</td>\n",
       "      <td>Haikyuu!!</td>\n",
       "      <td>Akaashi Keiji/Bokuto Koutarou</td>\n",
       "      <td>Akaashi Keiji, Bokuto Koutarou, Kozume Kenma, ...</td>\n",
       "      <td>Angst, Fluff and Angst, Alternate Universe - H...</td>\n",
       "      <td>English</td>\n",
       "      <td>...</td>\n",
       "      <td>2015-10-28</td>\n",
       "      <td>22995</td>\n",
       "      <td>1/1</td>\n",
       "      <td>5103</td>\n",
       "      <td>56228</td>\n",
       "      <td>9911</td>\n",
       "      <td>1966460</td>\n",
       "      <td>['534316819191919estoyTouched_starved', 'voidn...</td>\n",
       "      <td>[]</td>\n",
       "      <td>\\n\\n \\n\\nIt had been some time since Akaashi ...</td>\n",
       "    </tr>\n",
       "    <tr>\n",
       "      <th>3</th>\n",
       "      <td>10057010</td>\n",
       "      <td>All the Young Dudes</td>\n",
       "      <td>['MsKingBean89']</td>\n",
       "      <td>Mature</td>\n",
       "      <td>M/M</td>\n",
       "      <td>Harry Potter - J. K. Rowling</td>\n",
       "      <td>Sirius Black/Remus Lupin, Sirius Black &amp; Remus...</td>\n",
       "      <td>Remus Lupin, Sirius Black, James Potter, Lily ...</td>\n",
       "      <td>Marauders' Era, Marauders, Marauders Friendshi...</td>\n",
       "      <td>English</td>\n",
       "      <td>...</td>\n",
       "      <td>2018-11-12</td>\n",
       "      <td>526969</td>\n",
       "      <td>188/188</td>\n",
       "      <td>16214</td>\n",
       "      <td>48865</td>\n",
       "      <td>10704</td>\n",
       "      <td>2683521</td>\n",
       "      <td>['liceeggs', 'JuliaTheStarsCollideDarling', 's...</td>\n",
       "      <td>[]</td>\n",
       "      <td>Saturday 7th August, 1971\\n\\nHe woke up in the...</td>\n",
       "    </tr>\n",
       "    <tr>\n",
       "      <th>4</th>\n",
       "      <td>5457191</td>\n",
       "      <td>a reylo fic</td>\n",
       "      <td>['treezie']</td>\n",
       "      <td>General Audiences</td>\n",
       "      <td>F/M</td>\n",
       "      <td>Star Wars - All Media Types, Star Wars Episode...</td>\n",
       "      <td>Kylo Ren/Rey (Star Wars)</td>\n",
       "      <td>Kylo Ren, Rey (Star Wars)</td>\n",
       "      <td>stan loona, #ReleaseTheRianJohnsonCut</td>\n",
       "      <td>English</td>\n",
       "      <td>...</td>\n",
       "      <td>2015-12-19</td>\n",
       "      <td>12</td>\n",
       "      <td>1/1</td>\n",
       "      <td>8093</td>\n",
       "      <td>47051</td>\n",
       "      <td>1814</td>\n",
       "      <td>304252</td>\n",
       "      <td>['windowpane_rain', 'Giraffejuice', 'ew7756', ...</td>\n",
       "      <td>[]</td>\n",
       "      <td>rey picks up kylo and dunks him into the garba...</td>\n",
       "    </tr>\n",
       "  </tbody>\n",
       "</table>\n",
       "<p>5 rows × 22 columns</p>\n",
       "</div>"
      ],
      "text/plain": [
       "    work_id                     title              author  \\\n",
       "0   2080878                I Am Groot   ['sherlocksmyth']   \n",
       "1   8337607  Yesterday Upon The Stair  ['PitViperOfDoom']   \n",
       "2   5096105           In Another Life    ['LittleLuxray']   \n",
       "3  10057010       All the Young Dudes    ['MsKingBean89']   \n",
       "4   5457191               a reylo fic         ['treezie']   \n",
       "\n",
       "                  rating category  \\\n",
       "0               Explicit      NaN   \n",
       "1  Teen And Up Audiences      Gen   \n",
       "2  Teen And Up Audiences      M/M   \n",
       "3                 Mature      M/M   \n",
       "4      General Audiences      F/M   \n",
       "\n",
       "                                              fandom  \\\n",
       "0  Guardians of the Galaxy - All Media Types, Mar...   \n",
       "1  Pu nohiroakademia | Boku no Hero Academia | My...   \n",
       "2                                          Haikyuu!!   \n",
       "3                       Harry Potter - J. K. Rowling   \n",
       "4  Star Wars - All Media Types, Star Wars Episode...   \n",
       "\n",
       "                                        relationship  \\\n",
       "0                                                NaN   \n",
       "1  Midoriya Izuku & Yagi Toshinori | All Might, M...   \n",
       "2                      Akaashi Keiji/Bokuto Koutarou   \n",
       "3  Sirius Black/Remus Lupin, Sirius Black & Remus...   \n",
       "4                           Kylo Ren/Rey (Star Wars)   \n",
       "\n",
       "                                           character  \\\n",
       "0                                     Groot (Marvel)   \n",
       "1  Midoriya Izuku, Yagi Toshinori | All Might, Mi...   \n",
       "2  Akaashi Keiji, Bokuto Koutarou, Kozume Kenma, ...   \n",
       "3  Remus Lupin, Sirius Black, James Potter, Lily ...   \n",
       "4                          Kylo Ren, Rey (Star Wars)   \n",
       "\n",
       "                                     additional tags language  ...  \\\n",
       "0                                               NSFW  English  ...   \n",
       "1  Alternate Universe - Canon Divergence, BAMF Mi...  English  ...   \n",
       "2  Angst, Fluff and Angst, Alternate Universe - H...  English  ...   \n",
       "3  Marauders' Era, Marauders, Marauders Friendshi...  English  ...   \n",
       "4              stan loona, #ReleaseTheRianJohnsonCut  English  ...   \n",
       "\n",
       "  status date   words chapters  comments  kudos  bookmarks     hits  \\\n",
       "0  2014-08-04    1308      1/1      2931  98099       3842   848754   \n",
       "1  2019-10-12  424070    60/60     19940  62276      14836  1765887   \n",
       "2  2015-10-28   22995      1/1      5103  56228       9911  1966460   \n",
       "3  2018-11-12  526969  188/188     16214  48865      10704  2683521   \n",
       "4  2015-12-19      12      1/1      8093  47051       1814   304252   \n",
       "\n",
       "                                           all_kudos  all_bookmarks  \\\n",
       "0  ['sddhdeheifis', 'XxSilentiumxX', 'Mai_3', 'Am...             []   \n",
       "1  ['DaneyC', 'fucksimoncowell', 'TheBrotatoPatch...             []   \n",
       "2  ['534316819191919estoyTouched_starved', 'voidn...             []   \n",
       "3  ['liceeggs', 'JuliaTheStarsCollideDarling', 's...             []   \n",
       "4  ['windowpane_rain', 'Giraffejuice', 'ew7756', ...             []   \n",
       "\n",
       "                                                body  \n",
       "0  I am Groot. I am Groot. I am Groot. I am Groot...  \n",
       "1  \"Excuse me? Um, excuse me?\"\\n\\nIt takes a whil...  \n",
       "2   \\n\\n \\n\\nIt had been some time since Akaashi ...  \n",
       "3  Saturday 7th August, 1971\\n\\nHe woke up in the...  \n",
       "4  rey picks up kylo and dunks him into the garba...  \n",
       "\n",
       "[5 rows x 22 columns]"
      ]
     },
     "execution_count": 14,
     "metadata": {},
     "output_type": "execute_result"
    }
   ],
   "source": [
    "top_fics = pd.read_csv(\"fanfics.csv\")\n",
    "top_fics.head()"
   ]
  },
  {
   "cell_type": "markdown",
   "id": "968a39e8-c4e3-4343-a899-5cede4bc2970",
   "metadata": {},
   "source": [
    "# Comparison Data Sets\n",
    "\n",
    "I scraped much smaller data sets as comparison points. Archive of Our Own's default sorting is by \"Most Recently Updated,\" so to get a more generally representative dataset, popularity irrelevant, I scraped the most recent 500 fics of individual fandoms. I picked large fandoms that I have some tangential knowledge of that are based on different forms of media: Anime, RPF (real person fic, think: celebrities), Movies, and Books. I also grabbed the data for the most recent 500, fandom and popularity irrelevant, as a sort of control.\n",
    "\n",
    "These are rather small datasets, in comparison with the amount of works in fandoms as a whole, but serve as a proof of concept until I can access larger data sets.\n",
    "\n",
    "### Recent - All Fandoms, Most Recent 500\n",
    "\n",
    "Pulled on June 23, 2021"
   ]
  },
  {
   "cell_type": "code",
   "execution_count": 15,
   "id": "dbe5cf2b-5d6d-4c41-8596-27c37191497f",
   "metadata": {
    "tags": []
   },
   "outputs": [
    {
     "data": {
      "text/html": [
       "<div>\n",
       "<style scoped>\n",
       "    .dataframe tbody tr th:only-of-type {\n",
       "        vertical-align: middle;\n",
       "    }\n",
       "\n",
       "    .dataframe tbody tr th {\n",
       "        vertical-align: top;\n",
       "    }\n",
       "\n",
       "    .dataframe thead th {\n",
       "        text-align: right;\n",
       "    }\n",
       "</style>\n",
       "<table border=\"1\" class=\"dataframe\">\n",
       "  <thead>\n",
       "    <tr style=\"text-align: right;\">\n",
       "      <th></th>\n",
       "      <th>work_id</th>\n",
       "      <th>title</th>\n",
       "      <th>author</th>\n",
       "      <th>rating</th>\n",
       "      <th>category</th>\n",
       "      <th>fandom</th>\n",
       "      <th>relationship</th>\n",
       "      <th>character</th>\n",
       "      <th>additional tags</th>\n",
       "      <th>language</th>\n",
       "      <th>...</th>\n",
       "      <th>status date</th>\n",
       "      <th>words</th>\n",
       "      <th>chapters</th>\n",
       "      <th>comments</th>\n",
       "      <th>kudos</th>\n",
       "      <th>bookmarks</th>\n",
       "      <th>hits</th>\n",
       "      <th>all_kudos</th>\n",
       "      <th>all_bookmarks</th>\n",
       "      <th>body</th>\n",
       "    </tr>\n",
       "  </thead>\n",
       "  <tbody>\n",
       "    <tr>\n",
       "      <th>0</th>\n",
       "      <td>32137747</td>\n",
       "      <td>my mind always reminds me (ur a nice idea)</td>\n",
       "      <td>['kentaurus']</td>\n",
       "      <td>General Audiences</td>\n",
       "      <td>M/M</td>\n",
       "      <td>The Boyz (Korea Band)</td>\n",
       "      <td>Lee Jaehyun | Hyunjae/Lee Juyeon, juyeon - Rel...</td>\n",
       "      <td>Lee Jaehyun | Hyunjae, Lee Juyeon (The Boyz), ...</td>\n",
       "      <td>jumil - Freeform, bbangmil bestfriends fo life...</td>\n",
       "      <td>English</td>\n",
       "      <td>...</td>\n",
       "      <td>2021-06-23</td>\n",
       "      <td>3426</td>\n",
       "      <td>1/1</td>\n",
       "      <td>NaN</td>\n",
       "      <td>NaN</td>\n",
       "      <td>NaN</td>\n",
       "      <td>0</td>\n",
       "      <td>[]</td>\n",
       "      <td>[]</td>\n",
       "      <td>it was afternoon, class starting in five minut...</td>\n",
       "    </tr>\n",
       "  </tbody>\n",
       "</table>\n",
       "<p>1 rows × 22 columns</p>\n",
       "</div>"
      ],
      "text/plain": [
       "    work_id                                       title         author  \\\n",
       "0  32137747  my mind always reminds me (ur a nice idea)  ['kentaurus']   \n",
       "\n",
       "              rating category                 fandom  \\\n",
       "0  General Audiences      M/M  The Boyz (Korea Band)   \n",
       "\n",
       "                                        relationship  \\\n",
       "0  Lee Jaehyun | Hyunjae/Lee Juyeon, juyeon - Rel...   \n",
       "\n",
       "                                           character  \\\n",
       "0  Lee Jaehyun | Hyunjae, Lee Juyeon (The Boyz), ...   \n",
       "\n",
       "                                     additional tags language  ...  \\\n",
       "0  jumil - Freeform, bbangmil bestfriends fo life...  English  ...   \n",
       "\n",
       "  status date words chapters  comments kudos  bookmarks  hits  all_kudos  \\\n",
       "0  2021-06-23  3426      1/1       NaN   NaN        NaN     0         []   \n",
       "\n",
       "   all_bookmarks                                               body  \n",
       "0             []  it was afternoon, class starting in five minut...  \n",
       "\n",
       "[1 rows x 22 columns]"
      ]
     },
     "execution_count": 15,
     "metadata": {},
     "output_type": "execute_result"
    }
   ],
   "source": [
    "recent_fics = pd.read_csv(\"recent_fics.csv\")\n",
    "recent_fics.head(1)"
   ]
  },
  {
   "cell_type": "markdown",
   "id": "f55766e7-b490-4539-9d3d-4d05042aedc6",
   "metadata": {},
   "source": [
    "### Anime Sample - My Hero Academia, Most Recent 500\n",
    "\n",
    "Pulled on June 23, 2021"
   ]
  },
  {
   "cell_type": "code",
   "execution_count": 16,
   "id": "bc406e03-7a2d-4708-8cd7-9f7bdff81974",
   "metadata": {
    "tags": []
   },
   "outputs": [
    {
     "data": {
      "text/html": [
       "<div>\n",
       "<style scoped>\n",
       "    .dataframe tbody tr th:only-of-type {\n",
       "        vertical-align: middle;\n",
       "    }\n",
       "\n",
       "    .dataframe tbody tr th {\n",
       "        vertical-align: top;\n",
       "    }\n",
       "\n",
       "    .dataframe thead th {\n",
       "        text-align: right;\n",
       "    }\n",
       "</style>\n",
       "<table border=\"1\" class=\"dataframe\">\n",
       "  <thead>\n",
       "    <tr style=\"text-align: right;\">\n",
       "      <th></th>\n",
       "      <th>work_id</th>\n",
       "      <th>title</th>\n",
       "      <th>author</th>\n",
       "      <th>rating</th>\n",
       "      <th>category</th>\n",
       "      <th>fandom</th>\n",
       "      <th>relationship</th>\n",
       "      <th>character</th>\n",
       "      <th>additional tags</th>\n",
       "      <th>language</th>\n",
       "      <th>...</th>\n",
       "      <th>status date</th>\n",
       "      <th>words</th>\n",
       "      <th>chapters</th>\n",
       "      <th>comments</th>\n",
       "      <th>kudos</th>\n",
       "      <th>bookmarks</th>\n",
       "      <th>hits</th>\n",
       "      <th>all_kudos</th>\n",
       "      <th>all_bookmarks</th>\n",
       "      <th>body</th>\n",
       "    </tr>\n",
       "  </thead>\n",
       "  <tbody>\n",
       "    <tr>\n",
       "      <th>0</th>\n",
       "      <td>32138932</td>\n",
       "      <td>Summer's Over Now (but the School Year has Jus...</td>\n",
       "      <td>['GraceFallsConfidential']</td>\n",
       "      <td>Teen And Up Audiences</td>\n",
       "      <td>M/M, Multi</td>\n",
       "      <td>Pu nohiroakademia | Boku no Hero Academia | My...</td>\n",
       "      <td>Bakugou Katsuki/Kirishima Eijirou, Ashido Mina...</td>\n",
       "      <td>Kirishima Eijirou, Bakugou Katsuki, Kaminari D...</td>\n",
       "      <td>Trans Kirishima Eijirou, Genderfluid Character...</td>\n",
       "      <td>English</td>\n",
       "      <td>...</td>\n",
       "      <td>2021-06-23</td>\n",
       "      <td>743</td>\n",
       "      <td>1/?</td>\n",
       "      <td>NaN</td>\n",
       "      <td>1.0</td>\n",
       "      <td>NaN</td>\n",
       "      <td>0</td>\n",
       "      <td>['lovefierro']</td>\n",
       "      <td>[]</td>\n",
       "      <td>Summer is my favorite season.\\n\\nWell, not by ...</td>\n",
       "    </tr>\n",
       "  </tbody>\n",
       "</table>\n",
       "<p>1 rows × 22 columns</p>\n",
       "</div>"
      ],
      "text/plain": [
       "    work_id                                              title  \\\n",
       "0  32138932  Summer's Over Now (but the School Year has Jus...   \n",
       "\n",
       "                       author                 rating    category  \\\n",
       "0  ['GraceFallsConfidential']  Teen And Up Audiences  M/M, Multi   \n",
       "\n",
       "                                              fandom  \\\n",
       "0  Pu nohiroakademia | Boku no Hero Academia | My...   \n",
       "\n",
       "                                        relationship  \\\n",
       "0  Bakugou Katsuki/Kirishima Eijirou, Ashido Mina...   \n",
       "\n",
       "                                           character  \\\n",
       "0  Kirishima Eijirou, Bakugou Katsuki, Kaminari D...   \n",
       "\n",
       "                                     additional tags language  ...  \\\n",
       "0  Trans Kirishima Eijirou, Genderfluid Character...  English  ...   \n",
       "\n",
       "  status date words chapters  comments kudos  bookmarks  hits       all_kudos  \\\n",
       "0  2021-06-23   743      1/?       NaN   1.0        NaN     0  ['lovefierro']   \n",
       "\n",
       "   all_bookmarks                                               body  \n",
       "0             []  Summer is my favorite season.\\n\\nWell, not by ...  \n",
       "\n",
       "[1 rows x 22 columns]"
      ]
     },
     "execution_count": 16,
     "metadata": {},
     "output_type": "execute_result"
    }
   ],
   "source": [
    "bnha_fics = pd.read_csv(\"bnha_fics.csv\")\n",
    "bnha_fics.head(1)"
   ]
  },
  {
   "cell_type": "code",
   "execution_count": 17,
   "id": "93302192-22d7-4b22-ba50-1d2e628d33e7",
   "metadata": {},
   "outputs": [
    {
     "data": {
      "text/plain": [
       "(491, 22)"
      ]
     },
     "execution_count": 17,
     "metadata": {},
     "output_type": "execute_result"
    }
   ],
   "source": [
    "bnha_fics.shape"
   ]
  },
  {
   "cell_type": "markdown",
   "id": "afa85ca1-ef30-41b7-819c-c8a402f31f6a",
   "metadata": {},
   "source": [
    "### RPF Sample - BTS (K-pop Band), Most Recent 500\n",
    "\n",
    "Pulled on June 23, 2021"
   ]
  },
  {
   "cell_type": "code",
   "execution_count": 18,
   "id": "2ab4b4fa-f5e1-4d4b-b52f-282331f9c60b",
   "metadata": {
    "tags": []
   },
   "outputs": [
    {
     "data": {
      "text/html": [
       "<div>\n",
       "<style scoped>\n",
       "    .dataframe tbody tr th:only-of-type {\n",
       "        vertical-align: middle;\n",
       "    }\n",
       "\n",
       "    .dataframe tbody tr th {\n",
       "        vertical-align: top;\n",
       "    }\n",
       "\n",
       "    .dataframe thead th {\n",
       "        text-align: right;\n",
       "    }\n",
       "</style>\n",
       "<table border=\"1\" class=\"dataframe\">\n",
       "  <thead>\n",
       "    <tr style=\"text-align: right;\">\n",
       "      <th></th>\n",
       "      <th>work_id</th>\n",
       "      <th>title</th>\n",
       "      <th>author</th>\n",
       "      <th>rating</th>\n",
       "      <th>category</th>\n",
       "      <th>fandom</th>\n",
       "      <th>relationship</th>\n",
       "      <th>character</th>\n",
       "      <th>additional tags</th>\n",
       "      <th>language</th>\n",
       "      <th>...</th>\n",
       "      <th>status date</th>\n",
       "      <th>words</th>\n",
       "      <th>chapters</th>\n",
       "      <th>comments</th>\n",
       "      <th>kudos</th>\n",
       "      <th>bookmarks</th>\n",
       "      <th>hits</th>\n",
       "      <th>all_kudos</th>\n",
       "      <th>all_bookmarks</th>\n",
       "      <th>body</th>\n",
       "    </tr>\n",
       "  </thead>\n",
       "  <tbody>\n",
       "    <tr>\n",
       "      <th>0</th>\n",
       "      <td>29599878</td>\n",
       "      <td>Like an Echo</td>\n",
       "      <td>['yoongishooketh']</td>\n",
       "      <td>Mature</td>\n",
       "      <td>F/M</td>\n",
       "      <td>bangtansonyeondan | Bangtan Boys | BTS</td>\n",
       "      <td>NaN</td>\n",
       "      <td>Kim Taehyung | V, Kim Seokjin | Jin, Kim Namjo...</td>\n",
       "      <td>Alternate Universe - Soulmates, Soulmates, Rin...</td>\n",
       "      <td>English</td>\n",
       "      <td>...</td>\n",
       "      <td>2021-06-23</td>\n",
       "      <td>32954</td>\n",
       "      <td>31/?</td>\n",
       "      <td>NaN</td>\n",
       "      <td>4.0</td>\n",
       "      <td>2.0</td>\n",
       "      <td>270</td>\n",
       "      <td>['NouraBenLahcen', 'Dev_96', 'daedreaminyoonie...</td>\n",
       "      <td>[]</td>\n",
       "      <td>Hello again!Welcome to book two of my BTS soul...</td>\n",
       "    </tr>\n",
       "  </tbody>\n",
       "</table>\n",
       "<p>1 rows × 22 columns</p>\n",
       "</div>"
      ],
      "text/plain": [
       "    work_id         title              author  rating category  \\\n",
       "0  29599878  Like an Echo  ['yoongishooketh']  Mature      F/M   \n",
       "\n",
       "                                   fandom relationship  \\\n",
       "0  bangtansonyeondan | Bangtan Boys | BTS          NaN   \n",
       "\n",
       "                                           character  \\\n",
       "0  Kim Taehyung | V, Kim Seokjin | Jin, Kim Namjo...   \n",
       "\n",
       "                                     additional tags language  ...  \\\n",
       "0  Alternate Universe - Soulmates, Soulmates, Rin...  English  ...   \n",
       "\n",
       "  status date  words chapters  comments kudos  bookmarks  hits  \\\n",
       "0  2021-06-23  32954     31/?       NaN   4.0        2.0   270   \n",
       "\n",
       "                                           all_kudos  all_bookmarks  \\\n",
       "0  ['NouraBenLahcen', 'Dev_96', 'daedreaminyoonie...             []   \n",
       "\n",
       "                                                body  \n",
       "0  Hello again!Welcome to book two of my BTS soul...  \n",
       "\n",
       "[1 rows x 22 columns]"
      ]
     },
     "execution_count": 18,
     "metadata": {},
     "output_type": "execute_result"
    }
   ],
   "source": [
    "bts_fics = pd.read_csv(\"bts_fics.csv\")\n",
    "bts_fics.head(1)"
   ]
  },
  {
   "cell_type": "markdown",
   "id": "7d4f353a-5025-4920-bad3-3de96c3c649b",
   "metadata": {},
   "source": [
    "### Movie Sample - Marvel Cinematic Universe, Most Recent 500\n",
    "\n",
    "Pulled on June 23, 2021"
   ]
  },
  {
   "cell_type": "code",
   "execution_count": 19,
   "id": "50be2164-3352-4d07-93a3-f0822ef8bef9",
   "metadata": {
    "tags": []
   },
   "outputs": [
    {
     "data": {
      "text/html": [
       "<div>\n",
       "<style scoped>\n",
       "    .dataframe tbody tr th:only-of-type {\n",
       "        vertical-align: middle;\n",
       "    }\n",
       "\n",
       "    .dataframe tbody tr th {\n",
       "        vertical-align: top;\n",
       "    }\n",
       "\n",
       "    .dataframe thead th {\n",
       "        text-align: right;\n",
       "    }\n",
       "</style>\n",
       "<table border=\"1\" class=\"dataframe\">\n",
       "  <thead>\n",
       "    <tr style=\"text-align: right;\">\n",
       "      <th></th>\n",
       "      <th>work_id</th>\n",
       "      <th>title</th>\n",
       "      <th>author</th>\n",
       "      <th>rating</th>\n",
       "      <th>category</th>\n",
       "      <th>fandom</th>\n",
       "      <th>relationship</th>\n",
       "      <th>character</th>\n",
       "      <th>additional tags</th>\n",
       "      <th>language</th>\n",
       "      <th>...</th>\n",
       "      <th>status date</th>\n",
       "      <th>words</th>\n",
       "      <th>chapters</th>\n",
       "      <th>comments</th>\n",
       "      <th>kudos</th>\n",
       "      <th>bookmarks</th>\n",
       "      <th>hits</th>\n",
       "      <th>all_kudos</th>\n",
       "      <th>all_bookmarks</th>\n",
       "      <th>body</th>\n",
       "    </tr>\n",
       "  </thead>\n",
       "  <tbody>\n",
       "    <tr>\n",
       "      <th>0</th>\n",
       "      <td>32140645</td>\n",
       "      <td>Cafune</td>\n",
       "      <td>['Anarchyduck']</td>\n",
       "      <td>General Audiences</td>\n",
       "      <td>F/M</td>\n",
       "      <td>Spider-Man (Tom Holland Movies), Marvel Cinema...</td>\n",
       "      <td>Michelle Jones/Peter Parker</td>\n",
       "      <td>Michelle Jones, Peter Parker</td>\n",
       "      <td>Fluff, Fluff without Plot, Established Relatio...</td>\n",
       "      <td>English</td>\n",
       "      <td>...</td>\n",
       "      <td>2021-06-23</td>\n",
       "      <td>455</td>\n",
       "      <td>1/1</td>\n",
       "      <td>NaN</td>\n",
       "      <td>1.0</td>\n",
       "      <td>NaN</td>\n",
       "      <td>1</td>\n",
       "      <td>[]</td>\n",
       "      <td>[]</td>\n",
       "      <td>\\nPeter balances on the thin line between cons...</td>\n",
       "    </tr>\n",
       "  </tbody>\n",
       "</table>\n",
       "<p>1 rows × 22 columns</p>\n",
       "</div>"
      ],
      "text/plain": [
       "    work_id   title           author             rating category  \\\n",
       "0  32140645  Cafune  ['Anarchyduck']  General Audiences      F/M   \n",
       "\n",
       "                                              fandom  \\\n",
       "0  Spider-Man (Tom Holland Movies), Marvel Cinema...   \n",
       "\n",
       "                  relationship                     character  \\\n",
       "0  Michelle Jones/Peter Parker  Michelle Jones, Peter Parker   \n",
       "\n",
       "                                     additional tags language  ...  \\\n",
       "0  Fluff, Fluff without Plot, Established Relatio...  English  ...   \n",
       "\n",
       "  status date words chapters  comments kudos  bookmarks  hits  all_kudos  \\\n",
       "0  2021-06-23   455      1/1       NaN   1.0        NaN     1         []   \n",
       "\n",
       "   all_bookmarks                                               body  \n",
       "0             []  \\nPeter balances on the thin line between cons...  \n",
       "\n",
       "[1 rows x 22 columns]"
      ]
     },
     "execution_count": 19,
     "metadata": {},
     "output_type": "execute_result"
    }
   ],
   "source": [
    "mcu_fics = pd.read_csv(\"mcu_fics.csv\")\n",
    "mcu_fics.head(1)"
   ]
  },
  {
   "cell_type": "markdown",
   "id": "8d25e132-bbc9-4d64-973e-ead0c6dc9042",
   "metadata": {},
   "source": [
    "### Book Sample - Harry Potter, Most Recent 500\n",
    "\n",
    "Pulled on June 23, 2021"
   ]
  },
  {
   "cell_type": "code",
   "execution_count": 20,
   "id": "551938b6-00eb-4e52-83cf-72dd15f88fc7",
   "metadata": {
    "tags": []
   },
   "outputs": [
    {
     "data": {
      "text/html": [
       "<div>\n",
       "<style scoped>\n",
       "    .dataframe tbody tr th:only-of-type {\n",
       "        vertical-align: middle;\n",
       "    }\n",
       "\n",
       "    .dataframe tbody tr th {\n",
       "        vertical-align: top;\n",
       "    }\n",
       "\n",
       "    .dataframe thead th {\n",
       "        text-align: right;\n",
       "    }\n",
       "</style>\n",
       "<table border=\"1\" class=\"dataframe\">\n",
       "  <thead>\n",
       "    <tr style=\"text-align: right;\">\n",
       "      <th></th>\n",
       "      <th>work_id</th>\n",
       "      <th>title</th>\n",
       "      <th>author</th>\n",
       "      <th>rating</th>\n",
       "      <th>category</th>\n",
       "      <th>fandom</th>\n",
       "      <th>relationship</th>\n",
       "      <th>character</th>\n",
       "      <th>additional tags</th>\n",
       "      <th>language</th>\n",
       "      <th>...</th>\n",
       "      <th>status date</th>\n",
       "      <th>words</th>\n",
       "      <th>chapters</th>\n",
       "      <th>comments</th>\n",
       "      <th>kudos</th>\n",
       "      <th>bookmarks</th>\n",
       "      <th>hits</th>\n",
       "      <th>all_kudos</th>\n",
       "      <th>all_bookmarks</th>\n",
       "      <th>body</th>\n",
       "    </tr>\n",
       "  </thead>\n",
       "  <tbody>\n",
       "    <tr>\n",
       "      <th>0</th>\n",
       "      <td>25986979</td>\n",
       "      <td>Star Crossed Through Time</td>\n",
       "      <td>['SlytherinLovesAGryffindor']</td>\n",
       "      <td>Explicit</td>\n",
       "      <td>F/M</td>\n",
       "      <td>Harry Potter - J. K. Rowling</td>\n",
       "      <td>Hermione Granger/Severus Snape</td>\n",
       "      <td>Hermione Granger, Severus Snape, Harry Potter,...</td>\n",
       "      <td>Romance, POV Hermione Granger, POV Severus Sna...</td>\n",
       "      <td>English</td>\n",
       "      <td>...</td>\n",
       "      <td>2021-06-24</td>\n",
       "      <td>411678</td>\n",
       "      <td>87/200</td>\n",
       "      <td>2324.0</td>\n",
       "      <td>1304.0</td>\n",
       "      <td>246.0</td>\n",
       "      <td>70799</td>\n",
       "      <td>['LeaLea7', 'billie11598', 'Stille_und_regen',...</td>\n",
       "      <td>[]</td>\n",
       "      <td>A quick few words before we dive into the stor...</td>\n",
       "    </tr>\n",
       "  </tbody>\n",
       "</table>\n",
       "<p>1 rows × 22 columns</p>\n",
       "</div>"
      ],
      "text/plain": [
       "    work_id                      title                         author  \\\n",
       "0  25986979  Star Crossed Through Time  ['SlytherinLovesAGryffindor']   \n",
       "\n",
       "     rating category                        fandom  \\\n",
       "0  Explicit      F/M  Harry Potter - J. K. Rowling   \n",
       "\n",
       "                     relationship  \\\n",
       "0  Hermione Granger/Severus Snape   \n",
       "\n",
       "                                           character  \\\n",
       "0  Hermione Granger, Severus Snape, Harry Potter,...   \n",
       "\n",
       "                                     additional tags language  ...  \\\n",
       "0  Romance, POV Hermione Granger, POV Severus Sna...  English  ...   \n",
       "\n",
       "  status date   words chapters  comments   kudos  bookmarks   hits  \\\n",
       "0  2021-06-24  411678   87/200    2324.0  1304.0      246.0  70799   \n",
       "\n",
       "                                           all_kudos  all_bookmarks  \\\n",
       "0  ['LeaLea7', 'billie11598', 'Stille_und_regen',...             []   \n",
       "\n",
       "                                                body  \n",
       "0  A quick few words before we dive into the stor...  \n",
       "\n",
       "[1 rows x 22 columns]"
      ]
     },
     "execution_count": 20,
     "metadata": {},
     "output_type": "execute_result"
    }
   ],
   "source": [
    "hp_fics = pd.read_csv(\"hp_fics.csv\")\n",
    "hp_fics.head(1)"
   ]
  },
  {
   "cell_type": "markdown",
   "id": "826e300e-d377-4d9a-ab1a-938d3a2ec84a",
   "metadata": {},
   "source": [
    "# Frequency Distributions"
   ]
  },
  {
   "cell_type": "markdown",
   "id": "e0fb239c-04b6-464e-a28a-d4daa3f49c76",
   "metadata": {},
   "source": [
    "For the purpose of searching and categorizing tags, let's start by copying into new dataframes to preserve the original data and dropping all rows with empty cells so it doesn't break our code.\n",
    "\n",
    "Let's go row by row for the first, and largest data set."
   ]
  },
  {
   "cell_type": "code",
   "execution_count": 21,
   "id": "e9a4fef5-ad92-464f-aeb3-4bf569cb0ee1",
   "metadata": {},
   "outputs": [],
   "source": [
    "dropped_na = top_fics.copy()"
   ]
  },
  {
   "cell_type": "code",
   "execution_count": 22,
   "id": "8d885822-a681-47c7-841c-3a42414d22c5",
   "metadata": {},
   "outputs": [],
   "source": [
    "dropped_na = dropped_na.dropna(subset=[\"additional tags\"])"
   ]
  },
  {
   "cell_type": "code",
   "execution_count": 23,
   "id": "c9275685-d870-46be-bcf9-de41f5e32968",
   "metadata": {},
   "outputs": [
    {
     "data": {
      "text/plain": [
       "(3467, 22)"
      ]
     },
     "execution_count": 23,
     "metadata": {},
     "output_type": "execute_result"
    }
   ],
   "source": [
    "dropped_na.shape"
   ]
  },
  {
   "cell_type": "markdown",
   "id": "bc168664",
   "metadata": {},
   "source": [
    "It worked! Let's do it again for all of my comparison datasets, too."
   ]
  },
  {
   "cell_type": "code",
   "execution_count": 24,
   "id": "35b57f72-c6cb-418b-a92f-149f2f706550",
   "metadata": {},
   "outputs": [
    {
     "data": {
      "text/plain": [
       "(441, 22)"
      ]
     },
     "execution_count": 24,
     "metadata": {},
     "output_type": "execute_result"
    }
   ],
   "source": [
    "recent_dropped = recent_fics.copy()\n",
    "recent_dropped = recent_dropped.dropna(subset=[\"additional tags\"])\n",
    "recent_dropped.shape"
   ]
  },
  {
   "cell_type": "code",
   "execution_count": 25,
   "id": "5afd2a5e-91a9-4fa3-baec-a182a76f8108",
   "metadata": {
    "tags": []
   },
   "outputs": [
    {
     "data": {
      "text/plain": [
       "(476, 22)"
      ]
     },
     "execution_count": 25,
     "metadata": {},
     "output_type": "execute_result"
    }
   ],
   "source": [
    "bnha_dropped = bnha_fics.copy()\n",
    "bnha_dropped = bnha_dropped.dropna(subset=[\"additional tags\"])\n",
    "bnha_dropped.shape"
   ]
  },
  {
   "cell_type": "code",
   "execution_count": 26,
   "id": "ca0f590f-38ae-44de-a290-64f82fac1087",
   "metadata": {},
   "outputs": [
    {
     "data": {
      "text/plain": [
       "(451, 22)"
      ]
     },
     "execution_count": 26,
     "metadata": {},
     "output_type": "execute_result"
    }
   ],
   "source": [
    "bts_dropped = bts_fics.copy()\n",
    "bts_dropped = bts_dropped.dropna(subset=[\"additional tags\"])\n",
    "bts_dropped.shape"
   ]
  },
  {
   "cell_type": "code",
   "execution_count": 27,
   "id": "6260b87c-dd72-4531-96a0-9b386a8cdc91",
   "metadata": {},
   "outputs": [
    {
     "data": {
      "text/plain": [
       "(458, 22)"
      ]
     },
     "execution_count": 27,
     "metadata": {},
     "output_type": "execute_result"
    }
   ],
   "source": [
    "mcu_dropped = mcu_fics.copy()\n",
    "mcu_dropped = mcu_dropped.dropna(subset=[\"additional tags\"])\n",
    "mcu_dropped.shape"
   ]
  },
  {
   "cell_type": "code",
   "execution_count": 28,
   "id": "feea10de-c650-43ee-b241-a623af85a10d",
   "metadata": {},
   "outputs": [
    {
     "data": {
      "text/plain": [
       "(427, 22)"
      ]
     },
     "execution_count": 28,
     "metadata": {},
     "output_type": "execute_result"
    }
   ],
   "source": [
    "hp_dropped = hp_fics.copy()\n",
    "hp_dropped = hp_dropped.dropna(subset=[\"additional tags\"])\n",
    "hp_dropped.shape"
   ]
  },
  {
   "cell_type": "markdown",
   "id": "343cf3c4",
   "metadata": {},
   "source": [
    "As you can see by the number of columns in each dataset, I have very different amounts of data in each dataset. I will normalize them by using frequency percentages, and not just frequency counts."
   ]
  },
  {
   "cell_type": "markdown",
   "id": "e8e1efec-93a1-4d33-8391-c66fd56dcb76",
   "metadata": {},
   "source": [
    "## Rating Distribution"
   ]
  },
  {
   "cell_type": "markdown",
   "id": "0d1b620a",
   "metadata": {},
   "source": [
    "Ratings on Archive of Our Own are similar to movie ratings, in that they are used to show how \"appropriate\" a work is. \"Explicit\" is for either explicitly sexual or perhaps highly violent, \"Mature\" is for perhaps impilcations of sexual content, language, or anything else that makes it above \"Teen and Up Audiences.\" \"General Audiences\" contain nothing that require a warning, and \"Not Rated\" could be anything.\n",
    "\n",
    "Remember, these are all tagged by the creators, so there may be wide variance in these definitions and the content of these works.\n",
    "\n",
    "### Setting up the Rating Dataframes\n",
    "\n",
    "Let's start by setting up our percentage dataframe for popular fics."
   ]
  },
  {
   "cell_type": "code",
   "execution_count": 29,
   "id": "68741d47-4c27-4e51-8959-54270a5d64f8",
   "metadata": {},
   "outputs": [],
   "source": [
    "rating_dist = pd.DataFrame(dropped_na[\"rating\"].value_counts(normalize=True))*100"
   ]
  },
  {
   "cell_type": "code",
   "execution_count": 30,
   "id": "b8643919-234a-4641-bcd8-5535906c405f",
   "metadata": {},
   "outputs": [
    {
     "data": {
      "text/html": [
       "<div>\n",
       "<style scoped>\n",
       "    .dataframe tbody tr th:only-of-type {\n",
       "        vertical-align: middle;\n",
       "    }\n",
       "\n",
       "    .dataframe tbody tr th {\n",
       "        vertical-align: top;\n",
       "    }\n",
       "\n",
       "    .dataframe thead th {\n",
       "        text-align: right;\n",
       "    }\n",
       "</style>\n",
       "<table border=\"1\" class=\"dataframe\">\n",
       "  <thead>\n",
       "    <tr style=\"text-align: right;\">\n",
       "      <th></th>\n",
       "      <th>index</th>\n",
       "      <th>rating</th>\n",
       "    </tr>\n",
       "  </thead>\n",
       "  <tbody>\n",
       "    <tr>\n",
       "      <th>0</th>\n",
       "      <td>Teen And Up Audiences</td>\n",
       "      <td>35.708105</td>\n",
       "    </tr>\n",
       "    <tr>\n",
       "      <th>1</th>\n",
       "      <td>Explicit</td>\n",
       "      <td>31.727718</td>\n",
       "    </tr>\n",
       "    <tr>\n",
       "      <th>2</th>\n",
       "      <td>Mature</td>\n",
       "      <td>18.603980</td>\n",
       "    </tr>\n",
       "    <tr>\n",
       "      <th>3</th>\n",
       "      <td>General Audiences</td>\n",
       "      <td>9.576002</td>\n",
       "    </tr>\n",
       "    <tr>\n",
       "      <th>4</th>\n",
       "      <td>Not Rated</td>\n",
       "      <td>4.384194</td>\n",
       "    </tr>\n",
       "  </tbody>\n",
       "</table>\n",
       "</div>"
      ],
      "text/plain": [
       "                   index     rating\n",
       "0  Teen And Up Audiences  35.708105\n",
       "1               Explicit  31.727718\n",
       "2                 Mature  18.603980\n",
       "3      General Audiences   9.576002\n",
       "4              Not Rated   4.384194"
      ]
     },
     "execution_count": 30,
     "metadata": {},
     "output_type": "execute_result"
    }
   ],
   "source": [
    "rating_dist = rating_dist.reset_index()\n",
    "rating_dist"
   ]
  },
  {
   "cell_type": "code",
   "execution_count": 31,
   "id": "22c6f8d0-6467-479d-b0ac-f3d3fee2e694",
   "metadata": {},
   "outputs": [],
   "source": [
    "rating_dist = rating_dist.rename(columns={\"index\":\"Rating\",\"rating\":\"%Frequency\"})"
   ]
  },
  {
   "cell_type": "code",
   "execution_count": 32,
   "id": "63b61a6d-bf7e-4555-9ede-ab1fb1d385c6",
   "metadata": {},
   "outputs": [
    {
     "data": {
      "text/html": [
       "<div>\n",
       "<style scoped>\n",
       "    .dataframe tbody tr th:only-of-type {\n",
       "        vertical-align: middle;\n",
       "    }\n",
       "\n",
       "    .dataframe tbody tr th {\n",
       "        vertical-align: top;\n",
       "    }\n",
       "\n",
       "    .dataframe thead th {\n",
       "        text-align: right;\n",
       "    }\n",
       "</style>\n",
       "<table border=\"1\" class=\"dataframe\">\n",
       "  <thead>\n",
       "    <tr style=\"text-align: right;\">\n",
       "      <th></th>\n",
       "      <th>Rating</th>\n",
       "      <th>%Frequency</th>\n",
       "    </tr>\n",
       "  </thead>\n",
       "  <tbody>\n",
       "    <tr>\n",
       "      <th>0</th>\n",
       "      <td>Teen And Up Audiences</td>\n",
       "      <td>35.708105</td>\n",
       "    </tr>\n",
       "    <tr>\n",
       "      <th>1</th>\n",
       "      <td>Explicit</td>\n",
       "      <td>31.727718</td>\n",
       "    </tr>\n",
       "    <tr>\n",
       "      <th>2</th>\n",
       "      <td>Mature</td>\n",
       "      <td>18.603980</td>\n",
       "    </tr>\n",
       "    <tr>\n",
       "      <th>3</th>\n",
       "      <td>General Audiences</td>\n",
       "      <td>9.576002</td>\n",
       "    </tr>\n",
       "    <tr>\n",
       "      <th>4</th>\n",
       "      <td>Not Rated</td>\n",
       "      <td>4.384194</td>\n",
       "    </tr>\n",
       "  </tbody>\n",
       "</table>\n",
       "</div>"
      ],
      "text/plain": [
       "                  Rating  %Frequency\n",
       "0  Teen And Up Audiences   35.708105\n",
       "1               Explicit   31.727718\n",
       "2                 Mature   18.603980\n",
       "3      General Audiences    9.576002\n",
       "4              Not Rated    4.384194"
      ]
     },
     "execution_count": 32,
     "metadata": {},
     "output_type": "execute_result"
    }
   ],
   "source": [
    "rating_dist"
   ]
  },
  {
   "cell_type": "code",
   "execution_count": 33,
   "id": "1e3d35b8-a380-4e95-9738-3f00fb88e6a1",
   "metadata": {},
   "outputs": [
    {
     "data": {
      "image/png": "[encoded data removed]",
      "text/plain": [
       "<Figure size 640x480 with 1 Axes>"
      ]
     },
     "metadata": {},
     "output_type": "display_data"
    }
   ],
   "source": [
    "rating_fig = sns.barplot(x = '%Frequency', \n",
    "                         y = 'Rating', \n",
    "                         data = rating_dist,\n",
    "                         orient=\"h\",\n",
    "                         palette=\"CMRmap\")"
   ]
  },
  {
   "cell_type": "markdown",
   "id": "ba23f879",
   "metadata": {},
   "source": [
    "Awesome, it worked! Here we can see that \"Teen and Up\" is the most popular rating in our corpus of popular works, but \"Explicit\" follows closely behind.\n",
    "\n",
    "Now let's see how that compares to our other fandoms and datasets! I'm just doing the same thing to this data that I did above."
   ]
  },
  {
   "cell_type": "code",
   "execution_count": 34,
   "id": "377ae30c-5a01-43c6-a5c3-1cf23dcd0277",
   "metadata": {},
   "outputs": [
    {
     "data": {
      "text/html": [
       "<div>\n",
       "<style scoped>\n",
       "    .dataframe tbody tr th:only-of-type {\n",
       "        vertical-align: middle;\n",
       "    }\n",
       "\n",
       "    .dataframe tbody tr th {\n",
       "        vertical-align: top;\n",
       "    }\n",
       "\n",
       "    .dataframe thead th {\n",
       "        text-align: right;\n",
       "    }\n",
       "</style>\n",
       "<table border=\"1\" class=\"dataframe\">\n",
       "  <thead>\n",
       "    <tr style=\"text-align: right;\">\n",
       "      <th></th>\n",
       "      <th>Rating</th>\n",
       "      <th>%Frequency</th>\n",
       "      <th>Set</th>\n",
       "    </tr>\n",
       "  </thead>\n",
       "  <tbody>\n",
       "    <tr>\n",
       "      <th>0</th>\n",
       "      <td>Teen And Up Audiences</td>\n",
       "      <td>35.708105</td>\n",
       "      <td>Popular</td>\n",
       "    </tr>\n",
       "    <tr>\n",
       "      <th>1</th>\n",
       "      <td>Explicit</td>\n",
       "      <td>31.727718</td>\n",
       "      <td>Popular</td>\n",
       "    </tr>\n",
       "    <tr>\n",
       "      <th>2</th>\n",
       "      <td>Mature</td>\n",
       "      <td>18.603980</td>\n",
       "      <td>Popular</td>\n",
       "    </tr>\n",
       "    <tr>\n",
       "      <th>3</th>\n",
       "      <td>General Audiences</td>\n",
       "      <td>9.576002</td>\n",
       "      <td>Popular</td>\n",
       "    </tr>\n",
       "    <tr>\n",
       "      <th>4</th>\n",
       "      <td>Not Rated</td>\n",
       "      <td>4.384194</td>\n",
       "      <td>Popular</td>\n",
       "    </tr>\n",
       "  </tbody>\n",
       "</table>\n",
       "</div>"
      ],
      "text/plain": [
       "                  Rating  %Frequency      Set\n",
       "0  Teen And Up Audiences   35.708105  Popular\n",
       "1               Explicit   31.727718  Popular\n",
       "2                 Mature   18.603980  Popular\n",
       "3      General Audiences    9.576002  Popular\n",
       "4              Not Rated    4.384194  Popular"
      ]
     },
     "execution_count": 34,
     "metadata": {},
     "output_type": "execute_result"
    }
   ],
   "source": [
    "# Adding a tag to that ^ dataset to differentiate it\n",
    "rating_dist[\"Set\"] = \"Popular\"\n",
    "rating_dist"
   ]
  },
  {
   "cell_type": "code",
   "execution_count": 35,
   "id": "37fdfc94-5d2d-4d40-b143-c41d84da0b1d",
   "metadata": {},
   "outputs": [],
   "source": [
    "# Just doing everything we did above to all data sets!\n",
    "\n",
    "recent_dist = pd.DataFrame(recent_dropped[\"rating\"].value_counts(normalize=True))*100\n",
    "bnha_dist = pd.DataFrame(bnha_dropped[\"rating\"].value_counts(normalize=True))*100\n",
    "bts_dist = pd.DataFrame(bts_dropped[\"rating\"].value_counts(normalize=True))*100\n",
    "mcu_dist = pd.DataFrame(mcu_dropped[\"rating\"].value_counts(normalize=True))*100\n",
    "hp_dist = pd.DataFrame(hp_dropped[\"rating\"].value_counts(normalize=True))*100\n",
    "\n",
    "recent_dist = recent_dist.reset_index()\n",
    "bnha_dist = bnha_dist.reset_index()\n",
    "bts_dist = bts_dist.reset_index()\n",
    "mcu_dist = mcu_dist.reset_index()\n",
    "hp_dist = hp_dist.reset_index()"
   ]
  },
  {
   "cell_type": "code",
   "execution_count": 36,
   "id": "e843a98e-8d7a-4814-9805-1eef0fc34aae",
   "metadata": {},
   "outputs": [],
   "source": [
    "recent_dist = recent_dist.rename(columns={\"index\":\"Rating\",\"rating\":\"%Frequency\"})\n",
    "bnha_dist = bnha_dist.rename(columns={\"index\":\"Rating\",\"rating\":\"%Frequency\"})\n",
    "bts_dist = bts_dist.rename(columns={\"index\":\"Rating\",\"rating\":\"%Frequency\"})\n",
    "mcu_dist = mcu_dist.rename(columns={\"index\":\"Rating\",\"rating\":\"%Frequency\"})\n",
    "hp_dist = hp_dist.rename(columns={\"index\":\"Rating\",\"rating\":\"%Frequency\"})"
   ]
  },
  {
   "cell_type": "code",
   "execution_count": 37,
   "id": "d8a7f927-65c8-46f0-a262-f0a855bfe13d",
   "metadata": {},
   "outputs": [],
   "source": [
    "recent_dist[\"Set\"] = \"Recent\"\n",
    "bnha_dist[\"Set\"] = \"Anime/BNHA\"\n",
    "bts_dist[\"Set\"] = \"RPF/BTS\"\n",
    "mcu_dist[\"Set\"] = \"Movie/MCU\"\n",
    "hp_dist[\"Set\"] = \"Book/HP\""
   ]
  },
  {
   "cell_type": "code",
   "execution_count": 38,
   "id": "832c9ac8-9066-40ea-932d-5dd483dd0f5c",
   "metadata": {
    "scrolled": true
   },
   "outputs": [
    {
     "data": {
      "text/html": [
       "<div>\n",
       "<style scoped>\n",
       "    .dataframe tbody tr th:only-of-type {\n",
       "        vertical-align: middle;\n",
       "    }\n",
       "\n",
       "    .dataframe tbody tr th {\n",
       "        vertical-align: top;\n",
       "    }\n",
       "\n",
       "    .dataframe thead th {\n",
       "        text-align: right;\n",
       "    }\n",
       "</style>\n",
       "<table border=\"1\" class=\"dataframe\">\n",
       "  <thead>\n",
       "    <tr style=\"text-align: right;\">\n",
       "      <th></th>\n",
       "      <th>Rating</th>\n",
       "      <th>%Frequency</th>\n",
       "      <th>Set</th>\n",
       "    </tr>\n",
       "  </thead>\n",
       "  <tbody>\n",
       "    <tr>\n",
       "      <th>0</th>\n",
       "      <td>Teen And Up Audiences</td>\n",
       "      <td>35.708105</td>\n",
       "      <td>Popular</td>\n",
       "    </tr>\n",
       "    <tr>\n",
       "      <th>1</th>\n",
       "      <td>Explicit</td>\n",
       "      <td>31.727718</td>\n",
       "      <td>Popular</td>\n",
       "    </tr>\n",
       "    <tr>\n",
       "      <th>2</th>\n",
       "      <td>Mature</td>\n",
       "      <td>18.603980</td>\n",
       "      <td>Popular</td>\n",
       "    </tr>\n",
       "    <tr>\n",
       "      <th>3</th>\n",
       "      <td>General Audiences</td>\n",
       "      <td>9.576002</td>\n",
       "      <td>Popular</td>\n",
       "    </tr>\n",
       "    <tr>\n",
       "      <th>4</th>\n",
       "      <td>Not Rated</td>\n",
       "      <td>4.384194</td>\n",
       "      <td>Popular</td>\n",
       "    </tr>\n",
       "    <tr>\n",
       "      <th>0</th>\n",
       "      <td>Teen And Up Audiences</td>\n",
       "      <td>32.426304</td>\n",
       "      <td>Recent</td>\n",
       "    </tr>\n",
       "    <tr>\n",
       "      <th>1</th>\n",
       "      <td>Mature</td>\n",
       "      <td>22.902494</td>\n",
       "      <td>Recent</td>\n",
       "    </tr>\n",
       "    <tr>\n",
       "      <th>2</th>\n",
       "      <td>Explicit</td>\n",
       "      <td>17.913832</td>\n",
       "      <td>Recent</td>\n",
       "    </tr>\n",
       "    <tr>\n",
       "      <th>3</th>\n",
       "      <td>General Audiences</td>\n",
       "      <td>16.099773</td>\n",
       "      <td>Recent</td>\n",
       "    </tr>\n",
       "    <tr>\n",
       "      <th>4</th>\n",
       "      <td>Not Rated</td>\n",
       "      <td>10.657596</td>\n",
       "      <td>Recent</td>\n",
       "    </tr>\n",
       "    <tr>\n",
       "      <th>0</th>\n",
       "      <td>Teen And Up Audiences</td>\n",
       "      <td>36.974790</td>\n",
       "      <td>Anime/BNHA</td>\n",
       "    </tr>\n",
       "    <tr>\n",
       "      <th>1</th>\n",
       "      <td>Mature</td>\n",
       "      <td>20.168067</td>\n",
       "      <td>Anime/BNHA</td>\n",
       "    </tr>\n",
       "    <tr>\n",
       "      <th>2</th>\n",
       "      <td>Explicit</td>\n",
       "      <td>16.386555</td>\n",
       "      <td>Anime/BNHA</td>\n",
       "    </tr>\n",
       "    <tr>\n",
       "      <th>3</th>\n",
       "      <td>Not Rated</td>\n",
       "      <td>13.655462</td>\n",
       "      <td>Anime/BNHA</td>\n",
       "    </tr>\n",
       "    <tr>\n",
       "      <th>4</th>\n",
       "      <td>General Audiences</td>\n",
       "      <td>12.815126</td>\n",
       "      <td>Anime/BNHA</td>\n",
       "    </tr>\n",
       "    <tr>\n",
       "      <th>0</th>\n",
       "      <td>Mature</td>\n",
       "      <td>29.268293</td>\n",
       "      <td>RPF/BTS</td>\n",
       "    </tr>\n",
       "    <tr>\n",
       "      <th>1</th>\n",
       "      <td>Explicit</td>\n",
       "      <td>28.603104</td>\n",
       "      <td>RPF/BTS</td>\n",
       "    </tr>\n",
       "    <tr>\n",
       "      <th>2</th>\n",
       "      <td>Teen And Up Audiences</td>\n",
       "      <td>17.738359</td>\n",
       "      <td>RPF/BTS</td>\n",
       "    </tr>\n",
       "    <tr>\n",
       "      <th>3</th>\n",
       "      <td>Not Rated</td>\n",
       "      <td>13.525499</td>\n",
       "      <td>RPF/BTS</td>\n",
       "    </tr>\n",
       "    <tr>\n",
       "      <th>4</th>\n",
       "      <td>General Audiences</td>\n",
       "      <td>10.864745</td>\n",
       "      <td>RPF/BTS</td>\n",
       "    </tr>\n",
       "    <tr>\n",
       "      <th>0</th>\n",
       "      <td>Teen And Up Audiences</td>\n",
       "      <td>32.096070</td>\n",
       "      <td>Movie/MCU</td>\n",
       "    </tr>\n",
       "    <tr>\n",
       "      <th>1</th>\n",
       "      <td>Mature</td>\n",
       "      <td>19.432314</td>\n",
       "      <td>Movie/MCU</td>\n",
       "    </tr>\n",
       "    <tr>\n",
       "      <th>2</th>\n",
       "      <td>Explicit</td>\n",
       "      <td>18.995633</td>\n",
       "      <td>Movie/MCU</td>\n",
       "    </tr>\n",
       "    <tr>\n",
       "      <th>3</th>\n",
       "      <td>General Audiences</td>\n",
       "      <td>17.903930</td>\n",
       "      <td>Movie/MCU</td>\n",
       "    </tr>\n",
       "    <tr>\n",
       "      <th>4</th>\n",
       "      <td>Not Rated</td>\n",
       "      <td>11.572052</td>\n",
       "      <td>Movie/MCU</td>\n",
       "    </tr>\n",
       "    <tr>\n",
       "      <th>0</th>\n",
       "      <td>Teen And Up Audiences</td>\n",
       "      <td>29.976581</td>\n",
       "      <td>Book/HP</td>\n",
       "    </tr>\n",
       "    <tr>\n",
       "      <th>1</th>\n",
       "      <td>Mature</td>\n",
       "      <td>29.274005</td>\n",
       "      <td>Book/HP</td>\n",
       "    </tr>\n",
       "    <tr>\n",
       "      <th>2</th>\n",
       "      <td>Explicit</td>\n",
       "      <td>19.203747</td>\n",
       "      <td>Book/HP</td>\n",
       "    </tr>\n",
       "    <tr>\n",
       "      <th>3</th>\n",
       "      <td>General Audiences</td>\n",
       "      <td>12.177986</td>\n",
       "      <td>Book/HP</td>\n",
       "    </tr>\n",
       "    <tr>\n",
       "      <th>4</th>\n",
       "      <td>Not Rated</td>\n",
       "      <td>9.367681</td>\n",
       "      <td>Book/HP</td>\n",
       "    </tr>\n",
       "  </tbody>\n",
       "</table>\n",
       "</div>"
      ],
      "text/plain": [
       "                  Rating  %Frequency         Set\n",
       "0  Teen And Up Audiences   35.708105     Popular\n",
       "1               Explicit   31.727718     Popular\n",
       "2                 Mature   18.603980     Popular\n",
       "3      General Audiences    9.576002     Popular\n",
       "4              Not Rated    4.384194     Popular\n",
       "0  Teen And Up Audiences   32.426304      Recent\n",
       "1                 Mature   22.902494      Recent\n",
       "2               Explicit   17.913832      Recent\n",
       "3      General Audiences   16.099773      Recent\n",
       "4              Not Rated   10.657596      Recent\n",
       "0  Teen And Up Audiences   36.974790  Anime/BNHA\n",
       "1                 Mature   20.168067  Anime/BNHA\n",
       "2               Explicit   16.386555  Anime/BNHA\n",
       "3              Not Rated   13.655462  Anime/BNHA\n",
       "4      General Audiences   12.815126  Anime/BNHA\n",
       "0                 Mature   29.268293     RPF/BTS\n",
       "1               Explicit   28.603104     RPF/BTS\n",
       "2  Teen And Up Audiences   17.738359     RPF/BTS\n",
       "3              Not Rated   13.525499     RPF/BTS\n",
       "4      General Audiences   10.864745     RPF/BTS\n",
       "0  Teen And Up Audiences   32.096070   Movie/MCU\n",
       "1                 Mature   19.432314   Movie/MCU\n",
       "2               Explicit   18.995633   Movie/MCU\n",
       "3      General Audiences   17.903930   Movie/MCU\n",
       "4              Not Rated   11.572052   Movie/MCU\n",
       "0  Teen And Up Audiences   29.976581     Book/HP\n",
       "1                 Mature   29.274005     Book/HP\n",
       "2               Explicit   19.203747     Book/HP\n",
       "3      General Audiences   12.177986     Book/HP\n",
       "4              Not Rated    9.367681     Book/HP"
      ]
     },
     "execution_count": 38,
     "metadata": {},
     "output_type": "execute_result"
    }
   ],
   "source": [
    "multi_rating_dist = pd.concat([rating_dist, recent_dist, bnha_dist, bts_dist, mcu_dist, hp_dist])\n",
    "multi_rating_dist"
   ]
  },
  {
   "cell_type": "markdown",
   "id": "4cc52310",
   "metadata": {},
   "source": [
    "Okay, all of our data is set up and in one dataframe. Let's see how it looks!\n",
    "\n",
    "### Ratings Comparison"
   ]
  },
  {
   "cell_type": "code",
   "execution_count": 39,
   "id": "fa1c4c7e-176e-4a6e-8890-75025046f14e",
   "metadata": {},
   "outputs": [
    {
     "data": {
      "image/png": "[encoded data removed]",
      "text/plain": [
       "<Figure size 1500x800 with 1 Axes>"
      ]
     },
     "metadata": {},
     "output_type": "display_data"
    }
   ],
   "source": [
    "plt.figure(figsize=(15,8))\n",
    "multi_rating_fig = sns.barplot(x = 'Rating', \n",
    "                               y = '%Frequency',\n",
    "                               hue = 'Set',\n",
    "                               data = multi_rating_dist,\n",
    "                               orient=\"v\",\n",
    "                              palette=\"CMRmap\")"
   ]
  },
  {
   "cell_type": "markdown",
   "id": "8d20d947",
   "metadata": {},
   "source": [
    "The immediate outliers here are in the explicit tag. It looks like, outside of the BTS fandom, explicit works are more popular with readers than they are for writers. Popular fics are also very rarely not rated, where it's not all that uncommon for unrated works to be written and posted. Heads up, writers: if you want your work to be read, make sure to rate it, and Explicit-tagged works are reader's favorite."
   ]
  },
  {
   "cell_type": "markdown",
   "id": "bcbba1a3-1927-4c4f-b17e-d9d8ea2c59eb",
   "metadata": {},
   "source": [
    "## Tag Distribution\n",
    "\n",
    "Tags are the user-generated subgenre markers on works in Archive of Our Own.\n",
    "\n",
    "Here we're going to do something similar to what we did with ratings, but with tags. The tags get more complicated, since they are all in one column, where multiple are listed in one long string. Luckily, they're separated by commas, but I still have a lot more cleaning to do."
   ]
  },
  {
   "cell_type": "code",
   "execution_count": 40,
   "id": "bb0cde1e-b3ff-43d8-a572-2f2d85ec8a04",
   "metadata": {
    "scrolled": true
   },
   "outputs": [
    {
     "data": {
      "text/html": [
       "<div>\n",
       "<style scoped>\n",
       "    .dataframe tbody tr th:only-of-type {\n",
       "        vertical-align: middle;\n",
       "    }\n",
       "\n",
       "    .dataframe tbody tr th {\n",
       "        vertical-align: top;\n",
       "    }\n",
       "\n",
       "    .dataframe thead th {\n",
       "        text-align: right;\n",
       "    }\n",
       "</style>\n",
       "<table border=\"1\" class=\"dataframe\">\n",
       "  <thead>\n",
       "    <tr style=\"text-align: right;\">\n",
       "      <th></th>\n",
       "      <th>Tag</th>\n",
       "      <th>Frequency</th>\n",
       "    </tr>\n",
       "  </thead>\n",
       "  <tbody>\n",
       "    <tr>\n",
       "      <th>0</th>\n",
       "      <td>Fluff</td>\n",
       "      <td>674</td>\n",
       "    </tr>\n",
       "    <tr>\n",
       "      <th>1</th>\n",
       "      <td>Angst</td>\n",
       "      <td>468</td>\n",
       "    </tr>\n",
       "    <tr>\n",
       "      <th>2</th>\n",
       "      <td>Hurt/Comfort</td>\n",
       "      <td>412</td>\n",
       "    </tr>\n",
       "    <tr>\n",
       "      <th>3</th>\n",
       "      <td>Alternate Universe - Canon Divergence</td>\n",
       "      <td>380</td>\n",
       "    </tr>\n",
       "    <tr>\n",
       "      <th>4</th>\n",
       "      <td>Slow Burn</td>\n",
       "      <td>364</td>\n",
       "    </tr>\n",
       "    <tr>\n",
       "      <th>5</th>\n",
       "      <td>Humor</td>\n",
       "      <td>325</td>\n",
       "    </tr>\n",
       "    <tr>\n",
       "      <th>6</th>\n",
       "      <td>Alternate Universe</td>\n",
       "      <td>275</td>\n",
       "    </tr>\n",
       "    <tr>\n",
       "      <th>7</th>\n",
       "      <td>Pining</td>\n",
       "      <td>225</td>\n",
       "    </tr>\n",
       "    <tr>\n",
       "      <th>8</th>\n",
       "      <td>Romance</td>\n",
       "      <td>219</td>\n",
       "    </tr>\n",
       "    <tr>\n",
       "      <th>9</th>\n",
       "      <td>First Time</td>\n",
       "      <td>216</td>\n",
       "    </tr>\n",
       "    <tr>\n",
       "      <th>10</th>\n",
       "      <td>Anal Sex</td>\n",
       "      <td>204</td>\n",
       "    </tr>\n",
       "    <tr>\n",
       "      <th>11</th>\n",
       "      <td>Fluff and Angst</td>\n",
       "      <td>199</td>\n",
       "    </tr>\n",
       "    <tr>\n",
       "      <th>12</th>\n",
       "      <td>Mutual Pining</td>\n",
       "      <td>192</td>\n",
       "    </tr>\n",
       "    <tr>\n",
       "      <th>13</th>\n",
       "      <td>Alpha/Beta/Omega Dynamics</td>\n",
       "      <td>186</td>\n",
       "    </tr>\n",
       "    <tr>\n",
       "      <th>14</th>\n",
       "      <td>Angst with a Happy Ending</td>\n",
       "      <td>181</td>\n",
       "    </tr>\n",
       "    <tr>\n",
       "      <th>15</th>\n",
       "      <td>Slow Build</td>\n",
       "      <td>169</td>\n",
       "    </tr>\n",
       "    <tr>\n",
       "      <th>16</th>\n",
       "      <td>Alternate Universe - Modern Setting</td>\n",
       "      <td>164</td>\n",
       "    </tr>\n",
       "    <tr>\n",
       "      <th>17</th>\n",
       "      <td>Canon-Typical Violence</td>\n",
       "      <td>151</td>\n",
       "    </tr>\n",
       "    <tr>\n",
       "      <th>18</th>\n",
       "      <td>Rimming</td>\n",
       "      <td>145</td>\n",
       "    </tr>\n",
       "    <tr>\n",
       "      <th>19</th>\n",
       "      <td>Happy Ending</td>\n",
       "      <td>145</td>\n",
       "    </tr>\n",
       "    <tr>\n",
       "      <th>20</th>\n",
       "      <td>Emotional Hurt/Comfort</td>\n",
       "      <td>144</td>\n",
       "    </tr>\n",
       "    <tr>\n",
       "      <th>21</th>\n",
       "      <td>Smut</td>\n",
       "      <td>141</td>\n",
       "    </tr>\n",
       "    <tr>\n",
       "      <th>22</th>\n",
       "      <td>Friends to Lovers</td>\n",
       "      <td>140</td>\n",
       "    </tr>\n",
       "    <tr>\n",
       "      <th>23</th>\n",
       "      <td>Alternate Universe - College/University</td>\n",
       "      <td>140</td>\n",
       "    </tr>\n",
       "    <tr>\n",
       "      <th>24</th>\n",
       "      <td>First Kiss</td>\n",
       "      <td>135</td>\n",
       "    </tr>\n",
       "  </tbody>\n",
       "</table>\n",
       "</div>"
      ],
      "text/plain": [
       "                                        Tag  Frequency\n",
       "0                                     Fluff        674\n",
       "1                                     Angst        468\n",
       "2                              Hurt/Comfort        412\n",
       "3     Alternate Universe - Canon Divergence        380\n",
       "4                                 Slow Burn        364\n",
       "5                                     Humor        325\n",
       "6                        Alternate Universe        275\n",
       "7                                    Pining        225\n",
       "8                                   Romance        219\n",
       "9                                First Time        216\n",
       "10                                 Anal Sex        204\n",
       "11                          Fluff and Angst        199\n",
       "12                            Mutual Pining        192\n",
       "13                Alpha/Beta/Omega Dynamics        186\n",
       "14                Angst with a Happy Ending        181\n",
       "15                               Slow Build        169\n",
       "16      Alternate Universe - Modern Setting        164\n",
       "17                   Canon-Typical Violence        151\n",
       "18                                  Rimming        145\n",
       "19                             Happy Ending        145\n",
       "20                   Emotional Hurt/Comfort        144\n",
       "21                                     Smut        141\n",
       "22                        Friends to Lovers        140\n",
       "23  Alternate Universe - College/University        140\n",
       "24                               First Kiss        135"
      ]
     },
     "execution_count": 40,
     "metadata": {},
     "output_type": "execute_result"
    }
   ],
   "source": [
    "tag_string = ','.join(dropped_na[\"additional tags\"].values)\n",
    "tag_tokens = tag_string.split(\",\")\n",
    "tag_tokens = list(map(str.strip, tag_tokens))\n",
    "freq_tags = Counter(tag_tokens)\n",
    "tags_dist = pd.DataFrame(freq_tags.most_common(25), columns = [\"Tag\", \"Frequency\"])\n",
    "tags_dist"
   ]
  },
  {
   "cell_type": "markdown",
   "id": "e2e69d33",
   "metadata": {},
   "source": [
    "Data cleaning for the set of popular works done! Let's see how it looks"
   ]
  },
  {
   "cell_type": "code",
   "execution_count": 41,
   "id": "08999640-b414-4dea-8b6d-3409a30b4196",
   "metadata": {},
   "outputs": [
    {
     "data": {
      "image/png": "[encoded data removed]",
      "text/plain": [
       "<Figure size 1000x800 with 1 Axes>"
      ]
     },
     "metadata": {},
     "output_type": "display_data"
    }
   ],
   "source": [
    "plt.figure(figsize=(10,8))\n",
    "tags_fig = sns.barplot(x = 'Frequency', \n",
    "                         y = 'Tag', \n",
    "                         data = tags_dist,\n",
    "                         orient=\"h\",\n",
    "                         palette=\"CMRmap\")"
   ]
  },
  {
   "cell_type": "markdown",
   "id": "4ca404eb",
   "metadata": {},
   "source": [
    "That looks awesome! We can see how popular emotion based tagging is in fanfiction. People are searching more emotional genre markers more than they are for theme/setting markers.\n",
    "\n",
    "Now, you know the drill, I'm going to start processing the rest of the datasets in the exact same way."
   ]
  },
  {
   "cell_type": "code",
   "execution_count": 42,
   "id": "1fd30980-419b-4775-981c-d1a7126f9986",
   "metadata": {
    "scrolled": true,
    "tags": []
   },
   "outputs": [],
   "source": [
    "# making sure that I'm searching my other fandoms for these specific tags for comparison; all fandoms are going to have unique top tags which won't help here\n",
    "\n",
    "top_tags = list(tags_dist[\"Tag\"])"
   ]
  },
  {
   "cell_type": "code",
   "execution_count": 43,
   "id": "4327c426-ba36-4d2f-bc15-fdad10f6cf4b",
   "metadata": {},
   "outputs": [],
   "source": [
    "tags_dist[\"Percent\"] = (tags_dist[\"Frequency\"] / tags_dist[\"Frequency\"].sum()) * 100"
   ]
  },
  {
   "cell_type": "code",
   "execution_count": 44,
   "id": "6ffa53eb-f0e1-458f-ac0f-15969e5bf5a1",
   "metadata": {
    "tags": []
   },
   "outputs": [
    {
     "data": {
      "text/html": [
       "<div>\n",
       "<style scoped>\n",
       "    .dataframe tbody tr th:only-of-type {\n",
       "        vertical-align: middle;\n",
       "    }\n",
       "\n",
       "    .dataframe tbody tr th {\n",
       "        vertical-align: top;\n",
       "    }\n",
       "\n",
       "    .dataframe thead th {\n",
       "        text-align: right;\n",
       "    }\n",
       "</style>\n",
       "<table border=\"1\" class=\"dataframe\">\n",
       "  <thead>\n",
       "    <tr style=\"text-align: right;\">\n",
       "      <th></th>\n",
       "      <th>Tag</th>\n",
       "      <th>Frequency</th>\n",
       "      <th>Percent</th>\n",
       "      <th>Set</th>\n",
       "    </tr>\n",
       "  </thead>\n",
       "  <tbody>\n",
       "    <tr>\n",
       "      <th>0</th>\n",
       "      <td>Fluff</td>\n",
       "      <td>674</td>\n",
       "      <td>11.244578</td>\n",
       "      <td>Popular</td>\n",
       "    </tr>\n",
       "    <tr>\n",
       "      <th>1</th>\n",
       "      <td>Angst</td>\n",
       "      <td>468</td>\n",
       "      <td>7.807808</td>\n",
       "      <td>Popular</td>\n",
       "    </tr>\n",
       "    <tr>\n",
       "      <th>2</th>\n",
       "      <td>Hurt/Comfort</td>\n",
       "      <td>412</td>\n",
       "      <td>6.873540</td>\n",
       "      <td>Popular</td>\n",
       "    </tr>\n",
       "    <tr>\n",
       "      <th>3</th>\n",
       "      <td>Alternate Universe - Canon Divergence</td>\n",
       "      <td>380</td>\n",
       "      <td>6.339673</td>\n",
       "      <td>Popular</td>\n",
       "    </tr>\n",
       "    <tr>\n",
       "      <th>4</th>\n",
       "      <td>Slow Burn</td>\n",
       "      <td>364</td>\n",
       "      <td>6.072739</td>\n",
       "      <td>Popular</td>\n",
       "    </tr>\n",
       "    <tr>\n",
       "      <th>...</th>\n",
       "      <td>...</td>\n",
       "      <td>...</td>\n",
       "      <td>...</td>\n",
       "      <td>...</td>\n",
       "    </tr>\n",
       "    <tr>\n",
       "      <th>20</th>\n",
       "      <td>First Time</td>\n",
       "      <td>7</td>\n",
       "      <td>1.104101</td>\n",
       "      <td>Book/HP</td>\n",
       "    </tr>\n",
       "    <tr>\n",
       "      <th>21</th>\n",
       "      <td>Rimming</td>\n",
       "      <td>6</td>\n",
       "      <td>0.946372</td>\n",
       "      <td>Book/HP</td>\n",
       "    </tr>\n",
       "    <tr>\n",
       "      <th>22</th>\n",
       "      <td>Slow Build</td>\n",
       "      <td>6</td>\n",
       "      <td>0.946372</td>\n",
       "      <td>Book/HP</td>\n",
       "    </tr>\n",
       "    <tr>\n",
       "      <th>23</th>\n",
       "      <td>Alternate Universe - College/University</td>\n",
       "      <td>5</td>\n",
       "      <td>0.788644</td>\n",
       "      <td>Book/HP</td>\n",
       "    </tr>\n",
       "    <tr>\n",
       "      <th>24</th>\n",
       "      <td>Alpha/Beta/Omega Dynamics</td>\n",
       "      <td>4</td>\n",
       "      <td>0.630915</td>\n",
       "      <td>Book/HP</td>\n",
       "    </tr>\n",
       "  </tbody>\n",
       "</table>\n",
       "<p>150 rows × 4 columns</p>\n",
       "</div>"
      ],
      "text/plain": [
       "                                        Tag  Frequency    Percent      Set\n",
       "0                                     Fluff        674  11.244578  Popular\n",
       "1                                     Angst        468   7.807808  Popular\n",
       "2                              Hurt/Comfort        412   6.873540  Popular\n",
       "3     Alternate Universe - Canon Divergence        380   6.339673  Popular\n",
       "4                                 Slow Burn        364   6.072739  Popular\n",
       "..                                      ...        ...        ...      ...\n",
       "20                               First Time          7   1.104101  Book/HP\n",
       "21                                  Rimming          6   0.946372  Book/HP\n",
       "22                               Slow Build          6   0.946372  Book/HP\n",
       "23  Alternate Universe - College/University          5   0.788644  Book/HP\n",
       "24                Alpha/Beta/Omega Dynamics          4   0.630915  Book/HP\n",
       "\n",
       "[150 rows x 4 columns]"
      ]
     },
     "execution_count": 44,
     "metadata": {},
     "output_type": "execute_result"
    }
   ],
   "source": [
    "# recent tag frequency dataframe\n",
    "tag_string = ','.join(recent_dropped[\"additional tags\"].values)\n",
    "tag_tokens = tag_string.split(\",\")\n",
    "tag_tokens = list(map(str.strip, tag_tokens))\n",
    "new_tokens = [tag for tag in tag_tokens if tag in top_tags]\n",
    "freq_tags = Counter(new_tokens)\n",
    "recent_tag_dist = pd.DataFrame(freq_tags.most_common(25), columns = [\"Tag\", \"Frequency\"])\n",
    "recent_tag_dist[\"Percent\"] = (recent_tag_dist[\"Frequency\"] / recent_tag_dist[\"Frequency\"].sum()) * 100\n",
    "recent_tag_dist[\"Set\"] = \"Recent\"\n",
    "\n",
    "# BNHA tag frequency dataframe\n",
    "tag_string = ','.join(bnha_dropped[\"additional tags\"].values)\n",
    "tag_tokens = tag_string.split(\",\")\n",
    "tag_tokens = list(map(str.strip, tag_tokens))\n",
    "new_tokens = [tag for tag in tag_tokens if tag in top_tags]\n",
    "freq_tags = Counter(new_tokens)\n",
    "bnha_tag_dist = pd.DataFrame(freq_tags.most_common(25), columns = [\"Tag\", \"Frequency\"])\n",
    "bnha_tag_dist[\"Percent\"] = (bnha_tag_dist[\"Frequency\"] / bnha_tag_dist[\"Frequency\"].sum()) * 100\n",
    "bnha_tag_dist[\"Set\"] = \"Anime/BNHA\"\n",
    "\n",
    "# BTS tag frequency dataframe\n",
    "tag_string = ','.join(bts_dropped[\"additional tags\"].values)\n",
    "tag_tokens = tag_string.split(\",\")\n",
    "tag_tokens = list(map(str.strip, tag_tokens))\n",
    "new_tokens = [tag for tag in tag_tokens if tag in top_tags]\n",
    "freq_tags = Counter(new_tokens)\n",
    "bts_tag_dist = pd.DataFrame(freq_tags.most_common(25), columns = [\"Tag\", \"Frequency\"])\n",
    "bts_tag_dist[\"Percent\"] = (bts_tag_dist[\"Frequency\"] / bts_tag_dist[\"Frequency\"].sum()) * 100\n",
    "bts_tag_dist[\"Set\"] = \"RPF/BTS\"\n",
    "\n",
    "# MCU tag frequency dataframe\n",
    "tag_string = ','.join(mcu_dropped[\"additional tags\"].values)\n",
    "tag_tokens = tag_string.split(\",\")\n",
    "tag_tokens = list(map(str.strip, tag_tokens))\n",
    "new_tokens = [tag for tag in tag_tokens if tag in top_tags]\n",
    "freq_tags = Counter(new_tokens)\n",
    "mcu_tag_dist = pd.DataFrame(freq_tags.most_common(25), columns = [\"Tag\", \"Frequency\"])\n",
    "mcu_tag_dist[\"Percent\"] = (mcu_tag_dist[\"Frequency\"] / mcu_tag_dist[\"Frequency\"].sum()) * 100\n",
    "mcu_tag_dist[\"Set\"] = \"Movie/MCU\"\n",
    "\n",
    "# HP tag frequency dataframe\n",
    "tag_string = ','.join(hp_dropped[\"additional tags\"].values)\n",
    "tag_tokens = tag_string.split(\",\")\n",
    "tag_tokens = list(map(str.strip, tag_tokens))\n",
    "new_tokens = [tag for tag in tag_tokens if tag in top_tags]\n",
    "freq_tags = Counter(new_tokens)\n",
    "hp_tag_dist = pd.DataFrame(freq_tags.most_common(25), columns = [\"Tag\", \"Frequency\"])\n",
    "hp_tag_dist[\"Percent\"] = (hp_tag_dist[\"Frequency\"] / hp_tag_dist[\"Frequency\"].sum()) * 100\n",
    "hp_tag_dist[\"Set\"] = \"Book/HP\"\n",
    "\n",
    "\n",
    "tags_dist[\"Set\"] = \"Popular\"\n",
    "\n",
    "# # combining the dataframes\n",
    "multi_tag_dist = pd.concat([tags_dist, recent_tag_dist, bnha_tag_dist, bts_tag_dist, mcu_tag_dist, hp_tag_dist])\n",
    "multi_tag_dist"
   ]
  },
  {
   "cell_type": "code",
   "execution_count": 45,
   "id": "acdea0a2-2432-4a27-b79d-2811a779b4cf",
   "metadata": {
    "scrolled": false,
    "tags": []
   },
   "outputs": [
    {
     "data": {
      "image/png": "[encoded data removed]",
      "text/plain": [
       "<Figure size 1500x4000 with 1 Axes>"
      ]
     },
     "metadata": {},
     "output_type": "display_data"
    }
   ],
   "source": [
    "plt.figure(figsize=(15,40))\n",
    "multi_tag_fig = sns.barplot(x = 'Percent', \n",
    "                               y = 'Tag',\n",
    "                               hue = 'Set',\n",
    "                               data = multi_tag_dist,\n",
    "                               orient=\"h\",\n",
    "                              palette=\"CMRmap\",)\n",
    "multi_tag_fig.figure.savefig('multi_tag_dist_fig.jpg')"
   ]
  },
  {
   "cell_type": "markdown",
   "id": "4ead1b8d",
   "metadata": {},
   "source": [
    "This is a lot of information in one graph, I know, but there's a lot of super interesting information here. I think the most can be learned by looking at the outliers. The one that stands out the most, just looking at it, is that spike for RPF/BTS under \"Smut.\" That's the tag for basically written porn. Our representation for \"real person fic\" is the most explicit, as shown in the previous rating distribution as well. In modern fan scholarship, fanfiction is often seen as the response to repression and expression of desire, so why is it so stark when the characters are real people?"
   ]
  },
  {
   "cell_type": "markdown",
   "id": "275c4f62-aac8-489c-a5b6-9c84980d4ef6",
   "metadata": {},
   "source": [
    "### \"Category\" (Romantic Pairing Type) Distribution\n",
    "\n",
    "Archive of Our Own has a very odd use of the term \"category.\" If the above data has proven anything, it should be that romance is central to fanfiction as a genre. Ao3's use of \"category\" reflects that. It is used to reference the genders of the characters in romantic relationships. The categories are: F/M (female/male, heterosexual), M/M (male/male), F/F (female/female), Multi (poly relationships, genders unspecified), Gen (no romantic relationships), and Other.\n",
    "\n",
    "Note the prevalence, just in these categories, of non-heterosexual relationships. Fanfiction is known for being queer reimaginings of popular media, but how much does that hold up?"
   ]
  },
  {
   "cell_type": "code",
   "execution_count": 46,
   "id": "baaeb985-c253-489a-813b-fba4952b39d9",
   "metadata": {},
   "outputs": [],
   "source": [
    "category_drop = top_fics.copy()\n",
    "category_drop = category_drop.dropna(subset=[\"category\"])"
   ]
  },
  {
   "cell_type": "code",
   "execution_count": 47,
   "id": "27ba988d-2a6a-41d7-894f-8b56b9754183",
   "metadata": {},
   "outputs": [
    {
     "data": {
      "text/html": [
       "<div>\n",
       "<style scoped>\n",
       "    .dataframe tbody tr th:only-of-type {\n",
       "        vertical-align: middle;\n",
       "    }\n",
       "\n",
       "    .dataframe tbody tr th {\n",
       "        vertical-align: top;\n",
       "    }\n",
       "\n",
       "    .dataframe thead th {\n",
       "        text-align: right;\n",
       "    }\n",
       "</style>\n",
       "<table border=\"1\" class=\"dataframe\">\n",
       "  <thead>\n",
       "    <tr style=\"text-align: right;\">\n",
       "      <th></th>\n",
       "      <th>Category</th>\n",
       "      <th>Frequency</th>\n",
       "      <th>Percent</th>\n",
       "    </tr>\n",
       "  </thead>\n",
       "  <tbody>\n",
       "    <tr>\n",
       "      <th>0</th>\n",
       "      <td>M/M</td>\n",
       "      <td>2723</td>\n",
       "      <td>66.236925</td>\n",
       "    </tr>\n",
       "    <tr>\n",
       "      <th>1</th>\n",
       "      <td>Gen</td>\n",
       "      <td>602</td>\n",
       "      <td>14.643639</td>\n",
       "    </tr>\n",
       "    <tr>\n",
       "      <th>2</th>\n",
       "      <td>F/M</td>\n",
       "      <td>408</td>\n",
       "      <td>9.924593</td>\n",
       "    </tr>\n",
       "    <tr>\n",
       "      <th>3</th>\n",
       "      <td>F/F</td>\n",
       "      <td>218</td>\n",
       "      <td>5.302846</td>\n",
       "    </tr>\n",
       "    <tr>\n",
       "      <th>4</th>\n",
       "      <td>Multi</td>\n",
       "      <td>125</td>\n",
       "      <td>3.040623</td>\n",
       "    </tr>\n",
       "    <tr>\n",
       "      <th>5</th>\n",
       "      <td>Other</td>\n",
       "      <td>35</td>\n",
       "      <td>0.851374</td>\n",
       "    </tr>\n",
       "  </tbody>\n",
       "</table>\n",
       "</div>"
      ],
      "text/plain": [
       "  Category  Frequency    Percent\n",
       "0      M/M       2723  66.236925\n",
       "1      Gen        602  14.643639\n",
       "2      F/M        408   9.924593\n",
       "3      F/F        218   5.302846\n",
       "4    Multi        125   3.040623\n",
       "5    Other         35   0.851374"
      ]
     },
     "execution_count": 47,
     "metadata": {},
     "output_type": "execute_result"
    }
   ],
   "source": [
    "category_string = ','.join(list(category_drop[\"category\"].values))\n",
    "cat_tokens = category_string.replace('\"', '').replace(' ','').split(\",\")\n",
    "freq_cat = Counter(cat_tokens)\n",
    "cat_dist = pd.DataFrame(freq_cat.most_common(6), columns = [\"Category\", \"Frequency\"])\n",
    "cat_dist[\"Percent\"] = (cat_dist[\"Frequency\"] / cat_dist[\"Frequency\"].sum()) * 100\n",
    "cat_dist"
   ]
  },
  {
   "cell_type": "code",
   "execution_count": 48,
   "id": "47256c72-2bed-4437-bc49-9655544b8952",
   "metadata": {
    "tags": []
   },
   "outputs": [
    {
     "data": {
      "image/png": "[encoded data removed]",
      "text/plain": [
       "<Figure size 640x480 with 1 Axes>"
      ]
     },
     "metadata": {},
     "output_type": "display_data"
    }
   ],
   "source": [
    "tags_fig = sns.barplot(x = 'Percent', \n",
    "                         y = 'Category', \n",
    "                         data = cat_dist,\n",
    "                         orient=\"h\",\n",
    "                         palette=\"CMRmap\")"
   ]
  },
  {
   "cell_type": "markdown",
   "id": "aa849289",
   "metadata": {},
   "source": [
    "Yes, we can confirm that the majority of romantic relationships in fanfiction are distinctly not straight. Noteworthy, though, is that even Gen and F/M rank *above* F/F, indicating the while this literature may not be heterosexual, it's not necessarily inclusive, either.\n",
    "\n",
    "We're going to do that same processing on the rest of the data."
   ]
  },
  {
   "cell_type": "code",
   "execution_count": 49,
   "id": "e088af55-1167-44f3-81bd-8986054e69fc",
   "metadata": {
    "scrolled": true
   },
   "outputs": [
    {
     "data": {
      "text/html": [
       "<div>\n",
       "<style scoped>\n",
       "    .dataframe tbody tr th:only-of-type {\n",
       "        vertical-align: middle;\n",
       "    }\n",
       "\n",
       "    .dataframe tbody tr th {\n",
       "        vertical-align: top;\n",
       "    }\n",
       "\n",
       "    .dataframe thead th {\n",
       "        text-align: right;\n",
       "    }\n",
       "</style>\n",
       "<table border=\"1\" class=\"dataframe\">\n",
       "  <thead>\n",
       "    <tr style=\"text-align: right;\">\n",
       "      <th></th>\n",
       "      <th>Category</th>\n",
       "      <th>Frequency</th>\n",
       "      <th>Percent</th>\n",
       "      <th>Set</th>\n",
       "    </tr>\n",
       "  </thead>\n",
       "  <tbody>\n",
       "    <tr>\n",
       "      <th>0</th>\n",
       "      <td>M/M</td>\n",
       "      <td>2723</td>\n",
       "      <td>66.236925</td>\n",
       "      <td>Popular</td>\n",
       "    </tr>\n",
       "    <tr>\n",
       "      <th>1</th>\n",
       "      <td>Gen</td>\n",
       "      <td>602</td>\n",
       "      <td>14.643639</td>\n",
       "      <td>Popular</td>\n",
       "    </tr>\n",
       "    <tr>\n",
       "      <th>2</th>\n",
       "      <td>F/M</td>\n",
       "      <td>408</td>\n",
       "      <td>9.924593</td>\n",
       "      <td>Popular</td>\n",
       "    </tr>\n",
       "    <tr>\n",
       "      <th>3</th>\n",
       "      <td>F/F</td>\n",
       "      <td>218</td>\n",
       "      <td>5.302846</td>\n",
       "      <td>Popular</td>\n",
       "    </tr>\n",
       "    <tr>\n",
       "      <th>4</th>\n",
       "      <td>Multi</td>\n",
       "      <td>125</td>\n",
       "      <td>3.040623</td>\n",
       "      <td>Popular</td>\n",
       "    </tr>\n",
       "    <tr>\n",
       "      <th>5</th>\n",
       "      <td>Other</td>\n",
       "      <td>35</td>\n",
       "      <td>0.851374</td>\n",
       "      <td>Popular</td>\n",
       "    </tr>\n",
       "    <tr>\n",
       "      <th>0</th>\n",
       "      <td>F/M</td>\n",
       "      <td>181</td>\n",
       "      <td>32.206406</td>\n",
       "      <td>Recent</td>\n",
       "    </tr>\n",
       "    <tr>\n",
       "      <th>1</th>\n",
       "      <td>M/M</td>\n",
       "      <td>173</td>\n",
       "      <td>30.782918</td>\n",
       "      <td>Recent</td>\n",
       "    </tr>\n",
       "    <tr>\n",
       "      <th>2</th>\n",
       "      <td>Gen</td>\n",
       "      <td>80</td>\n",
       "      <td>14.234875</td>\n",
       "      <td>Recent</td>\n",
       "    </tr>\n",
       "    <tr>\n",
       "      <th>3</th>\n",
       "      <td>F/F</td>\n",
       "      <td>64</td>\n",
       "      <td>11.387900</td>\n",
       "      <td>Recent</td>\n",
       "    </tr>\n",
       "    <tr>\n",
       "      <th>4</th>\n",
       "      <td>Multi</td>\n",
       "      <td>41</td>\n",
       "      <td>7.295374</td>\n",
       "      <td>Recent</td>\n",
       "    </tr>\n",
       "    <tr>\n",
       "      <th>5</th>\n",
       "      <td>Other</td>\n",
       "      <td>23</td>\n",
       "      <td>4.092527</td>\n",
       "      <td>Recent</td>\n",
       "    </tr>\n",
       "    <tr>\n",
       "      <th>0</th>\n",
       "      <td>M/M</td>\n",
       "      <td>217</td>\n",
       "      <td>32.978723</td>\n",
       "      <td>Anime/BNHA</td>\n",
       "    </tr>\n",
       "    <tr>\n",
       "      <th>1</th>\n",
       "      <td>F/M</td>\n",
       "      <td>175</td>\n",
       "      <td>26.595745</td>\n",
       "      <td>Anime/BNHA</td>\n",
       "    </tr>\n",
       "    <tr>\n",
       "      <th>2</th>\n",
       "      <td>Gen</td>\n",
       "      <td>113</td>\n",
       "      <td>17.173252</td>\n",
       "      <td>Anime/BNHA</td>\n",
       "    </tr>\n",
       "    <tr>\n",
       "      <th>3</th>\n",
       "      <td>Multi</td>\n",
       "      <td>69</td>\n",
       "      <td>10.486322</td>\n",
       "      <td>Anime/BNHA</td>\n",
       "    </tr>\n",
       "    <tr>\n",
       "      <th>4</th>\n",
       "      <td>F/F</td>\n",
       "      <td>51</td>\n",
       "      <td>7.750760</td>\n",
       "      <td>Anime/BNHA</td>\n",
       "    </tr>\n",
       "    <tr>\n",
       "      <th>5</th>\n",
       "      <td>Other</td>\n",
       "      <td>33</td>\n",
       "      <td>5.015198</td>\n",
       "      <td>Anime/BNHA</td>\n",
       "    </tr>\n",
       "    <tr>\n",
       "      <th>0</th>\n",
       "      <td>M/M</td>\n",
       "      <td>342</td>\n",
       "      <td>63.687151</td>\n",
       "      <td>RPF/BTS</td>\n",
       "    </tr>\n",
       "    <tr>\n",
       "      <th>1</th>\n",
       "      <td>F/M</td>\n",
       "      <td>101</td>\n",
       "      <td>18.808194</td>\n",
       "      <td>RPF/BTS</td>\n",
       "    </tr>\n",
       "    <tr>\n",
       "      <th>2</th>\n",
       "      <td>Multi</td>\n",
       "      <td>45</td>\n",
       "      <td>8.379888</td>\n",
       "      <td>RPF/BTS</td>\n",
       "    </tr>\n",
       "    <tr>\n",
       "      <th>3</th>\n",
       "      <td>Gen</td>\n",
       "      <td>21</td>\n",
       "      <td>3.910615</td>\n",
       "      <td>RPF/BTS</td>\n",
       "    </tr>\n",
       "    <tr>\n",
       "      <th>4</th>\n",
       "      <td>Other</td>\n",
       "      <td>17</td>\n",
       "      <td>3.165736</td>\n",
       "      <td>RPF/BTS</td>\n",
       "    </tr>\n",
       "    <tr>\n",
       "      <th>5</th>\n",
       "      <td>F/F</td>\n",
       "      <td>11</td>\n",
       "      <td>2.048417</td>\n",
       "      <td>RPF/BTS</td>\n",
       "    </tr>\n",
       "    <tr>\n",
       "      <th>0</th>\n",
       "      <td>F/M</td>\n",
       "      <td>195</td>\n",
       "      <td>32.994924</td>\n",
       "      <td>Movie/MCU</td>\n",
       "    </tr>\n",
       "    <tr>\n",
       "      <th>1</th>\n",
       "      <td>M/M</td>\n",
       "      <td>160</td>\n",
       "      <td>27.072758</td>\n",
       "      <td>Movie/MCU</td>\n",
       "    </tr>\n",
       "    <tr>\n",
       "      <th>2</th>\n",
       "      <td>Gen</td>\n",
       "      <td>93</td>\n",
       "      <td>15.736041</td>\n",
       "      <td>Movie/MCU</td>\n",
       "    </tr>\n",
       "    <tr>\n",
       "      <th>3</th>\n",
       "      <td>Multi</td>\n",
       "      <td>60</td>\n",
       "      <td>10.152284</td>\n",
       "      <td>Movie/MCU</td>\n",
       "    </tr>\n",
       "    <tr>\n",
       "      <th>4</th>\n",
       "      <td>F/F</td>\n",
       "      <td>53</td>\n",
       "      <td>8.967851</td>\n",
       "      <td>Movie/MCU</td>\n",
       "    </tr>\n",
       "    <tr>\n",
       "      <th>5</th>\n",
       "      <td>Other</td>\n",
       "      <td>30</td>\n",
       "      <td>5.076142</td>\n",
       "      <td>Movie/MCU</td>\n",
       "    </tr>\n",
       "    <tr>\n",
       "      <th>0</th>\n",
       "      <td>M/M</td>\n",
       "      <td>342</td>\n",
       "      <td>63.687151</td>\n",
       "      <td>Book/HP</td>\n",
       "    </tr>\n",
       "    <tr>\n",
       "      <th>1</th>\n",
       "      <td>F/M</td>\n",
       "      <td>101</td>\n",
       "      <td>18.808194</td>\n",
       "      <td>Book/HP</td>\n",
       "    </tr>\n",
       "    <tr>\n",
       "      <th>2</th>\n",
       "      <td>Multi</td>\n",
       "      <td>45</td>\n",
       "      <td>8.379888</td>\n",
       "      <td>Book/HP</td>\n",
       "    </tr>\n",
       "    <tr>\n",
       "      <th>3</th>\n",
       "      <td>Gen</td>\n",
       "      <td>21</td>\n",
       "      <td>3.910615</td>\n",
       "      <td>Book/HP</td>\n",
       "    </tr>\n",
       "    <tr>\n",
       "      <th>4</th>\n",
       "      <td>Other</td>\n",
       "      <td>17</td>\n",
       "      <td>3.165736</td>\n",
       "      <td>Book/HP</td>\n",
       "    </tr>\n",
       "    <tr>\n",
       "      <th>5</th>\n",
       "      <td>F/F</td>\n",
       "      <td>11</td>\n",
       "      <td>2.048417</td>\n",
       "      <td>Book/HP</td>\n",
       "    </tr>\n",
       "  </tbody>\n",
       "</table>\n",
       "</div>"
      ],
      "text/plain": [
       "  Category  Frequency    Percent         Set\n",
       "0      M/M       2723  66.236925     Popular\n",
       "1      Gen        602  14.643639     Popular\n",
       "2      F/M        408   9.924593     Popular\n",
       "3      F/F        218   5.302846     Popular\n",
       "4    Multi        125   3.040623     Popular\n",
       "5    Other         35   0.851374     Popular\n",
       "0      F/M        181  32.206406      Recent\n",
       "1      M/M        173  30.782918      Recent\n",
       "2      Gen         80  14.234875      Recent\n",
       "3      F/F         64  11.387900      Recent\n",
       "4    Multi         41   7.295374      Recent\n",
       "5    Other         23   4.092527      Recent\n",
       "0      M/M        217  32.978723  Anime/BNHA\n",
       "1      F/M        175  26.595745  Anime/BNHA\n",
       "2      Gen        113  17.173252  Anime/BNHA\n",
       "3    Multi         69  10.486322  Anime/BNHA\n",
       "4      F/F         51   7.750760  Anime/BNHA\n",
       "5    Other         33   5.015198  Anime/BNHA\n",
       "0      M/M        342  63.687151     RPF/BTS\n",
       "1      F/M        101  18.808194     RPF/BTS\n",
       "2    Multi         45   8.379888     RPF/BTS\n",
       "3      Gen         21   3.910615     RPF/BTS\n",
       "4    Other         17   3.165736     RPF/BTS\n",
       "5      F/F         11   2.048417     RPF/BTS\n",
       "0      F/M        195  32.994924   Movie/MCU\n",
       "1      M/M        160  27.072758   Movie/MCU\n",
       "2      Gen         93  15.736041   Movie/MCU\n",
       "3    Multi         60  10.152284   Movie/MCU\n",
       "4      F/F         53   8.967851   Movie/MCU\n",
       "5    Other         30   5.076142   Movie/MCU\n",
       "0      M/M        342  63.687151     Book/HP\n",
       "1      F/M        101  18.808194     Book/HP\n",
       "2    Multi         45   8.379888     Book/HP\n",
       "3      Gen         21   3.910615     Book/HP\n",
       "4    Other         17   3.165736     Book/HP\n",
       "5      F/F         11   2.048417     Book/HP"
      ]
     },
     "execution_count": 49,
     "metadata": {},
     "output_type": "execute_result"
    }
   ],
   "source": [
    "cat_dist[\"Set\"] = \"Popular\"\n",
    "\n",
    "\n",
    "#recent\n",
    "recent_cat_drop = recent_fics.copy()\n",
    "recent_cat_drop = recent_cat_drop.dropna(subset=[\"category\"])\n",
    "\n",
    "category_string = ','.join(list(recent_cat_drop[\"category\"].values))\n",
    "cat_tokens = category_string.replace('\"', '').replace(' ','').split(\",\")\n",
    "freq_cat = Counter(cat_tokens)\n",
    "recent_cat_dist = pd.DataFrame(freq_cat.most_common(6), columns = [\"Category\", \"Frequency\"])\n",
    "recent_cat_dist[\"Percent\"] = (recent_cat_dist[\"Frequency\"] / recent_cat_dist[\"Frequency\"].sum()) * 100\n",
    "recent_cat_dist[\"Set\"] = \"Recent\"\n",
    "\n",
    "#anime\n",
    "bnha_cat_drop = bnha_fics.copy()\n",
    "bnha_cat_drop = bnha_cat_drop.dropna(subset=[\"category\"])\n",
    "\n",
    "category_string = ','.join(list(bnha_cat_drop[\"category\"].values))\n",
    "cat_tokens = category_string.replace('\"', '').replace(' ','').split(\",\")\n",
    "freq_cat = Counter(cat_tokens)\n",
    "bnha_cat_dist = pd.DataFrame(freq_cat.most_common(6), columns = [\"Category\", \"Frequency\"])\n",
    "bnha_cat_dist[\"Percent\"] = (bnha_cat_dist[\"Frequency\"] / bnha_cat_dist[\"Frequency\"].sum()) * 100\n",
    "bnha_cat_dist[\"Set\"] = \"Anime/BNHA\"\n",
    "\n",
    "#rpf\n",
    "bts_cat_drop = bts_fics.copy()\n",
    "bts_cat_drop = bts_cat_drop.dropna(subset=[\"category\"])\n",
    "\n",
    "category_string = ','.join(list(bts_cat_drop[\"category\"].values))\n",
    "cat_tokens = category_string.replace('\"', '').replace(' ','').split(\",\")\n",
    "freq_cat = Counter(cat_tokens)\n",
    "bts_cat_dist = pd.DataFrame(freq_cat.most_common(6), columns = [\"Category\", \"Frequency\"])\n",
    "bts_cat_dist[\"Percent\"] = (bts_cat_dist[\"Frequency\"] / bts_cat_dist[\"Frequency\"].sum()) * 100\n",
    "bts_cat_dist[\"Set\"] = \"RPF/BTS\"\n",
    "\n",
    "#movie\n",
    "mcu_cat_drop = mcu_fics.copy()\n",
    "mcu_cat_drop = mcu_cat_drop.dropna(subset=[\"category\"])\n",
    "\n",
    "category_string = ','.join(list(mcu_cat_drop[\"category\"].values))\n",
    "cat_tokens = category_string.replace('\"', '').replace(' ','').split(\",\")\n",
    "freq_cat = Counter(cat_tokens)\n",
    "mcu_cat_dist = pd.DataFrame(freq_cat.most_common(6), columns = [\"Category\", \"Frequency\"])\n",
    "mcu_cat_dist[\"Percent\"] = (mcu_cat_dist[\"Frequency\"] / mcu_cat_dist[\"Frequency\"].sum()) * 100\n",
    "mcu_cat_dist[\"Set\"] = \"Movie/MCU\"\n",
    "\n",
    "#book\n",
    "hp_cat_drop = bts_fics.copy()\n",
    "hp_cat_drop = bts_cat_drop.dropna(subset=[\"category\"])\n",
    "\n",
    "category_string = ','.join(list(hp_cat_drop[\"category\"].values))\n",
    "cat_tokens = category_string.replace('\"', '').replace(' ','').split(\",\")\n",
    "freq_cat = Counter(cat_tokens)\n",
    "hp_cat_dist = pd.DataFrame(freq_cat.most_common(6), columns = [\"Category\", \"Frequency\"])\n",
    "hp_cat_dist[\"Percent\"] = (hp_cat_dist[\"Frequency\"] / hp_cat_dist[\"Frequency\"].sum()) * 100\n",
    "hp_cat_dist[\"Set\"] = \"Book/HP\"\n",
    "\n",
    "#concatenate\n",
    "multi_cat_dist = pd.concat([cat_dist, recent_cat_dist, bnha_cat_dist, bts_cat_dist, mcu_cat_dist, hp_cat_dist])\n",
    "multi_cat_dist"
   ]
  },
  {
   "cell_type": "code",
   "execution_count": 50,
   "id": "c46c26b3-0281-49e7-b452-088784eb3f3d",
   "metadata": {},
   "outputs": [
    {
     "data": {
      "image/png": "[encoded data removed]",
      "text/plain": [
       "<Figure size 1500x1100 with 1 Axes>"
      ]
     },
     "metadata": {},
     "output_type": "display_data"
    }
   ],
   "source": [
    "plt.figure(figsize=(15,11))\n",
    "multi_cat_fig = sns.barplot(x = 'Percent', \n",
    "                         y = 'Category',\n",
    "                         hue = 'Set',\n",
    "                         data = multi_cat_dist,\n",
    "                         orient=\"h\",\n",
    "                         palette=\"CMRmap\")"
   ]
  },
  {
   "cell_type": "markdown",
   "id": "10aa2290",
   "metadata": {},
   "source": [
    "Whoa! Each fandom has very different distributions here. Some of them make sense; BTS is only men, of course the romantic relationships are going to be mostly M/M. What's interesting, though, is that in popular fic, M/M is still even more predominant than it is in BTS. In the \"Recent\" and \"MCU\" cateories, F/M is even more popular than M/M. That shows that even though people are writing F/M works, people are reading and liking M/M works with more volume. I'm eager to look into each of these fandoms more to figure out why they are all so different."
   ]
  },
  {
   "cell_type": "markdown",
   "id": "22279a85-25c1-4667-becf-73bb12ea5931",
   "metadata": {},
   "source": [
    "# Word2Vec\n",
    "\n",
    "I had been hoping that these models would help me show the importance of emotion and relationships within the genre of fanfiction, and it only partially did that. While not central to any of my arguments or research questions, this model is still fun to play with and shows, at the very least, how much \"ships\" (popular relationships in fandoms) affect how this data is viewed.\n",
    "\n",
    "Models created using the help of [this tutorial by Kavita Ganesan](https://kavita-ganesan.com/gensim-word2vec-tutorial-starter-code/#.YNgJ8TZuc-R)."
   ]
  },
  {
   "cell_type": "code",
   "execution_count": 51,
   "id": "11494366-06ee-47ea-9a69-62f9cc4ee8f4",
   "metadata": {
    "scrolled": true
   },
   "outputs": [
    {
     "data": {
      "text/plain": [
       "str"
      ]
     },
     "execution_count": 51,
     "metadata": {},
     "output_type": "execute_result"
    }
   ],
   "source": [
    "fic_text = top_fics[\"body\"]\n",
    "type(fic_text[0])"
   ]
  },
  {
   "cell_type": "markdown",
   "id": "533116d5",
   "metadata": {},
   "source": [
    "These next steps take a really... really...... really long time to process. To run them fresh, feel free to uncomment the commented lines and comment the read_csv and Word2Vec.load lines. For ease, I've uploaded the files and model I created with them."
   ]
  },
  {
   "cell_type": "code",
   "execution_count": 52,
   "id": "154ee01e-5ee8-41b5-9d75-98ef34a7397d",
   "metadata": {},
   "outputs": [],
   "source": [
    "# fics_tokenized = []\n",
    "# for i in range(3000):\n",
    "#     words = []\n",
    "#     j = gensim.parsing.preprocessing.remove_stopwords(str(fic_text[i]))\n",
    "#     tokens = gensim.utils.simple_preprocess(j)\n",
    "#     words = list(map(str.strip, tokens))\n",
    "#     fics_tokenized.append(words)"
   ]
  },
  {
   "cell_type": "code",
   "execution_count": 53,
   "id": "bfcd67b8-a696-45ad-b69a-9194fad21f8f",
   "metadata": {
    "scrolled": true,
    "tags": []
   },
   "outputs": [],
   "source": [
    "# no_stops = []\n",
    "# for i in range(3000):\n",
    "#     print(\"Processing \" + str(i) + \"...\")\n",
    "#     k = [word for word in fics_tokenized[i] if word not in stopwords.words('english')]\n",
    "#     no_stops.append(k)"
   ]
  },
  {
   "cell_type": "code",
   "execution_count": 54,
   "id": "5623e432-e55b-4502-b5d2-2eab04b7e9f7",
   "metadata": {},
   "outputs": [],
   "source": [
    "no_stops = pd.read_csv(\"no_stops_popular_tokens.csv\")"
   ]
  },
  {
   "cell_type": "code",
   "execution_count": 55,
   "id": "f8fbb01e-8656-4af7-9ada-4ea0522d5f5c",
   "metadata": {},
   "outputs": [],
   "source": [
    "# no_stops_popular_df = pd.DataFrame({'col':no_stops})\n",
    "# no_stops_popular_df.to_csv(\"no_stops_popular_tokens.csv\")"
   ]
  },
  {
   "cell_type": "code",
   "execution_count": 56,
   "id": "1eb401ad-9427-413e-a961-4d16580c364d",
   "metadata": {},
   "outputs": [],
   "source": [
    "# popular_model = gensim.models.Word2Vec(no_stops)\n",
    "popular_model = gensim.models.Word2Vec.load(\"popular_model.model\")"
   ]
  },
  {
   "cell_type": "markdown",
   "id": "97041baa",
   "metadata": {},
   "source": [
    "Now, play with it! Type in some characters and see who people most likely ship them with, it's fun :)"
   ]
  },
  {
   "cell_type": "code",
   "execution_count": 57,
   "id": "837b753d-36fa-474e-a5f7-d4e97928d36d",
   "metadata": {
    "tags": []
   },
   "outputs": [
    {
     "data": {
      "text/plain": [
       "[('jimin', 0.9706425666809082),\n",
       " ('taehyung', 0.966130793094635),\n",
       " ('jeongguk', 0.9629248380661011),\n",
       " ('jungkook', 0.9568336606025696),\n",
       " ('namjoon', 0.9460700750350952),\n",
       " ('hoseok', 0.9406210780143738),\n",
       " ('seokjin', 0.933020293712616),\n",
       " ('tae', 0.8328649997711182),\n",
       " ('hyung', 0.8084059357643127),\n",
       " ('jaebum', 0.7760547399520874)]"
      ]
     },
     "execution_count": 57,
     "metadata": {},
     "output_type": "execute_result"
    }
   ],
   "source": [
    "popular_model.wv.most_similar(positive=\"yoongi\")"
   ]
  },
  {
   "cell_type": "code",
   "execution_count": 58,
   "id": "f1c57bf8-26a0-4d2c-890f-8aff8d5468dc",
   "metadata": {},
   "outputs": [
    {
     "data": {
      "text/plain": [
       "0.9416376"
      ]
     },
     "execution_count": 58,
     "metadata": {},
     "output_type": "execute_result"
    }
   ],
   "source": [
    "popular_model.wv.similarity(\"draco\", \"harry\")"
   ]
  },
  {
   "cell_type": "code",
   "execution_count": 59,
   "id": "c5119da4-8dc9-4b48-bd4a-4e7c3d4640d3",
   "metadata": {},
   "outputs": [],
   "source": [
    "# popular_model.save(\"popular_model.model\")"
   ]
  },
  {
   "cell_type": "markdown",
   "id": "50761dcb",
   "metadata": {},
   "source": [
    "We want to visualize this, now!"
   ]
  },
  {
   "cell_type": "code",
   "execution_count": 60,
   "id": "360b6e2a-36da-4b78-ac5e-dc683fe4adc3",
   "metadata": {
    "scrolled": true,
    "tags": []
   },
   "outputs": [],
   "source": [
    "word_vectors = list(popular_model.wv.get_normed_vectors())"
   ]
  },
  {
   "cell_type": "code",
   "execution_count": 61,
   "id": "711f48f2-1952-49aa-8331-fb7c64e72916",
   "metadata": {
    "scrolled": true,
    "tags": []
   },
   "outputs": [],
   "source": [
    "# if you want to see the list of vocab!\n",
    "# popular_model.wv.key_to_index"
   ]
  },
  {
   "cell_type": "code",
   "execution_count": 62,
   "id": "76aebf56-adbf-4972-ab21-7f4bba511f58",
   "metadata": {},
   "outputs": [],
   "source": [
    "for_pca = PCA(n_components = 2)\n",
    "pca_out = for_pca.fit_transform(word_vectors)"
   ]
  },
  {
   "cell_type": "code",
   "execution_count": 63,
   "id": "9a6b2871-433d-4766-898b-44378573c567",
   "metadata": {
    "tags": []
   },
   "outputs": [
    {
     "data": {
      "image/png": "[encoded data removed]",
      "text/plain": [
       "<Figure size 1500x1100 with 1 Axes>"
      ]
     },
     "metadata": {},
     "output_type": "display_data"
    }
   ],
   "source": [
    "plt.figure(figsize = (15,11))\n",
    "plt.scatter(pca_out[:, 0][5:35], pca_out[:, 1][5:35])\n",
    "words = list(popular_model.wv.key_to_index)\n",
    "for i, word in enumerate(words[0:35]):\n",
    "    plt.annotate(word, size = 20, xy=(pca_out[i, 0], pca_out[i, 1]))\n",
    "plt.show()"
   ]
  },
  {
   "cell_type": "markdown",
   "id": "c35b3159",
   "metadata": {},
   "source": [
    "This doesn't honestly help me all that much, but look at the bottom left corner. Look at those two dots, right on top of each other: \"stiles\" and \"derek.\" Those are the two names in an incredibly popular ship out of the *Teen Wolf* fandom; see also the proximity between \"clarke\" and \"lexa,\" a ship from the show *The 100*. In this corpus, imagined romantic relationships define the word relationships as well."
   ]
  },
  {
   "cell_type": "markdown",
   "id": "6c8f3db2",
   "metadata": {},
   "source": [
    "# Conclusions\n",
    "\n",
    "This is part of a much longer period of study. I have been researching and writing about non-normative literature for years, and based on extant scholarship on the subject, I expected the writings on Archive of Our Own to show very specific tropes, writing styles, ideas, and concepts.  For the most part, that was true.  All barplots are sorted in the order of most to least frequent tag within my core dataset of popular works. \n",
    "\n",
    "All the most popular tags are emotionally driven, with a focus on how a work may make the reader feel. \"Fluff,\" the most popular tag, is a term fairly unique to fanfiction, and means that the writer fews the work as something light-hearted and intends to bring no negative feeling. \"Angst,\" the second most popular, similarly describes a feeling, rather than a theme. While many of my individual fandom samples followed the same trends as the \"Popular\" works, in some cases, individual fandoms or my small sample of \"Recent\" works had stark differences. For example, in the Marvel Cinematic Universe fandom there are more works with F/M relationships than M/M, whereas in popular works, over 66% of the relationship tags are M/M. \n",
    "\n",
    "My initial research question on what tagging says about fanfiction, though, is that it is driven by emotions. There is no \"science fiction\" or \"fantasy\" tag, but instead \"Angst,\" \"Fluff,\" and \"Hurt/Comfort.\" Fanfiction is not about themes, it is about making the reader feel a specific way.\n",
    "\n",
    "### Further Research\n",
    "\n",
    "That outlier spike in the lower half of Graph 1 indicates that the BTS fandom has almost twice as many works tagged \"Smut\" than any other fandom. In further investigation, I want to know if that trend continues across other RPF, and why this fandom is such an outlier. I also want to give the scraper more time and get bigger data sets from individual fandoms. 500 is a relatively small sample and I could get so much more information from these and other fandoms. I would also like to analyze topic models in more depth; my Word2Vec model didn't get me anything useful other than ship-based character associations but perhaps TF-IDF or Doc2Vec might.\n",
    "\n",
    "I want to look specifically at \"RPF\" fandoms; my work outside of data is focused on parasocial relationships, and fandom is an incredible expression of that type of connection. The BTS fandom gave me the most interesting data, I think, and I want to use that as a jumping off point to use psychoanalytic criticism to look at how desire is shaped in a digital age."
   ]
  }
 ],
 "metadata": {
  "kernelspec": {
   "display_name": "Python 3",
   "language": "python",
   "name": "python3"
  },
  "language_info": {
   "codemirror_mode": {
    "name": "ipython",
    "version": 3
   },
   "file_extension": ".py",
   "mimetype": "text/x-python",
   "name": "python",
   "nbconvert_exporter": "python",
   "pygments_lexer": "ipython3",
   "version": "3.8.8"
  }
 },
 "nbformat": 4,
 "nbformat_minor": 5
}
